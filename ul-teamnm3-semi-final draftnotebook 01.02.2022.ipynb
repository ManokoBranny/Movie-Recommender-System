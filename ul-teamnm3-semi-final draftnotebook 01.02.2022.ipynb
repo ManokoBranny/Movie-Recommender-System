{
  "metadata": {
    "kernelspec": {
      "language": "python",
      "display_name": "Python 3",
      "name": "python3"
    },
    "language_info": {
      "name": "python",
      "version": "3.7.12",
      "mimetype": "text/x-python",
      "codemirror_mode": {
        "name": "ipython",
        "version": 3
      },
      "pygments_lexer": "ipython3",
      "nbconvert_exporter": "python",
      "file_extension": ".py"
    },
    "colab": {
      "provenance": []
    }
  },
  "nbformat_minor": 0,
  "nbformat": 4,
  "cells": [
    {
      "cell_type": "markdown",
      "source": [
        "# Unsupervised Learning Predict - Movie Recommender System Challenge\n",
        "© Explore Data Science Academy\n",
        "\n",
        "---\n",
        "### Honour Code\n",
        "\n",
        "We, **InfinityAI** {**#Team_NM3**}, confirm - by submitting this document - that the solutions in this notebook are a result of our own work and that we abide by the [EDSA honour code](https://drive.google.com/file/d/1QDCjGZJ8-FmJE3bZdIQNwnJyQKPhHZBn/view?usp=sharing).\n",
        "\n",
        "Non-compliance with the honour code constitutes a material breach of contract."
      ],
      "metadata": {
        "id": "3e1ff526"
      }
    },
    {
      "cell_type": "markdown",
      "source": [
        "<a id=\"cont\"></a>\n",
        "\n",
        "## Table of Contents\n",
        "\n",
        "#### Section 1: Enviroment Setup\n",
        "\n",
        "<a href=#one>1.1 Python Package Setup</a>\n",
        "\n",
        "<a href=#two>1.2 Comet  Initialization</a>\n",
        "\n",
        "<a href=#three>1.3 Package Imports</a>\n",
        "\n",
        "#### Section 2: Data\n",
        "\n",
        "<a href=#five>2.1 Download of dataset</a>\n",
        "\n",
        "<a href=#six>2.2 Basic Data Analysis</a>\n",
        "\n",
        "#### Section 3: Exploratory Data Analysis\n",
        "\n",
        "<a href=#seven>3.1 Explore user data</a>\n",
        "\n",
        "<a href=#seven>3.2 Explore movie genre</a>\n",
        "\n",
        "<a href=#seven>3.3 Explore movie data</a>\n",
        "\n",
        "<a href=#seven>3.4 Explore imdb data</a>\n",
        "\n",
        "<a href=#seven>3.5 Explore tags data</a>\n",
        "\n",
        "<a href=#seven>3.6 Explore publishing years</a>\n",
        "\n",
        "\n",
        "###  Section 4: Base Model Testing\n",
        "\n",
        "<a href=#eight>4.1 Cross-Validation Testing</a>\n",
        "\n",
        "<a href=#nine>4.2  Train-Test-Split</a>\n",
        "\n",
        "<a href=#ten>4.3   Grid Search</a>\n",
        "\n",
        "###  Section 5: Model Building\n",
        "\n",
        "<a href=#twelve>5.1 Fit model to whole dataset</a>\n",
        "\n",
        "<a href=#thirteen>5.2 Download CSV for Kaggle Competition</a>\n",
        "\n",
        "<a href=#fourteen>5.3 Pickle model for use in Streamlit</a>\n",
        "\n",
        "### Section 6:  Collaborative & Content Based Model\n",
        "\n",
        "<a href=#fifteen>6.1 Collaborative Filtering - Approach I</a>\n",
        "\n",
        "<a href=#sixteen>6.2 Content Based - Approach II</a>\n",
        "\n",
        "### Section 7: Conclusion\n"
      ],
      "metadata": {
        "id": "db26ce12"
      }
    },
    {
      "cell_type": "markdown",
      "source": [
        "# Introduction\n",
        "Movies have managed to enthrall audiences ever since one second clips of racing horses emerged in the 1890s to the introduction of sound in the 1920s to the birth of color in the 1930s to mainstream 3D Movies in the early 2010s. Around the world, movie industries have been blessed with creative geniuses in the form of directors, screenwriters, actors, sound designers and cinematographers. Together with the rise in popularity of portable devices, capable of hosting streaming services, movies have ensured that people can stay glued to their favourites whether in transit or in the corners of their homes. \n",
        "\n",
        "However, the spread into a plethora of genres ranging from romance to comedy to science fiction to horror has created a new problem of information overload, where choice and decision-making for individuals has become quite challenging. \n",
        "\n",
        "In today’s technology driven world, there have been several attempts to solving this problem using recommender systems. These systems are basically a subclass of intelligent information filtering processes that provide suggestions for items that are most pertinent to a particular user.\n",
        "\n",
        "Providing an accurate and robust solution to this challenge has immense economic potential for industry clients, with users of the system being exposed to content they would like to view or purchase - generating revenue and platform affinity. \n",
        "\n",
        "![IMG_3532.png](attachment:1293c550-39df-42d0-bd59-6aba283d8dc9.png)\n",
        "\n",
        "In this Notebook, the **Infinity AI** team identifies some insights into data that can be used for the development of a few recommender systems. The team explores eight datasets of more than 48000 movies and over 160000 users with up to 15 million of datapoints containing movie ratings, genres, keywords, and so on collected from Explore Ai Academy (EDSA) and the MovieLens datasets. Using these datasets, the team attempts to answer various questions about movies. We are:\n",
        "\n",
        " > Josiah Aramide <br>\n",
        " > Bongani Mavuso <br>\n",
        " > Ndinannyi mukwevho <br>\n",
        " > Aniedi Oboho-Etuk <br>\n",
        " > Manoko Langa <br>\n",
        " > Tshepiso Padi <br>\n",
        " > Nsika Masondo <br>\n",
        " "
      ],
      "metadata": {
        "id": "7efcbcb3"
      }
    },
    {
      "cell_type": "markdown",
      "source": [
        "### Problem Statement\n",
        "\n",
        "EXPLORE AI (the client) is determined to improve her recommender system service to targeted consumer categories based on their movie content ratings. \n",
        "\n",
        "Data from the historical viewing experiences, available to the company contains some movie preference (ratings) and similarity characteristics (movie attributes) that can ensure accurate prediction of consumer behaviour. \n",
        "\n",
        "By constructing a recommendation algorithm based on content or collaborative filtering, Infinity AI team can develop a solution capable of accurately predicting how a user will rate a movie they have not yet viewed based on their historical preferences. This solution will give the company access to immense economic opportunities and guarantee customer retention, with users of the system being exposed to content they would like to view or purchase. Additionally, this easy-to-deploy solution will deliver increase in customer click-through rate - generating revenue and platform affinity.\n",
        "\n",
        "![movie_recommender_system.jpg](attachment:65060f6b-9d0c-4d92-bcfa-a43baca1acd6.jpg)\n"
      ],
      "metadata": {
        "id": "19c635e3"
      }
    },
    {
      "cell_type": "markdown",
      "source": [
        "### Objectives\n",
        "\n",
        "**InfinityAI** seeks to achieve the following objectives for the project brief:\n",
        "\n",
        "- 1. analyse the supplied data for interesting insights on movies;\n",
        "- 2. identify underlying patterns and standardize the data;\n",
        "- 3. determine if additional features can be added to enrich the data set;\n",
        "- 4. build a recommendation algorithm based on content or collaborative filtering that is capable of capable of accurately predicting how a user will rate a movie they have not yet viewed;\n",
        "- 5. evaluate the accuracy of the best machine learning model; and\n",
        "- 6. explain the inner working of the model to a non-technical audience."
      ],
      "metadata": {
        "id": "15c657c7"
      }
    },
    {
      "cell_type": "markdown",
      "source": [
        "# Section 1: Enviroment Setup\n",
        "\n",
        "Let's start by installing and importing required packages/libraries."
      ],
      "metadata": {
        "id": "eb0e4c7a"
      }
    },
    {
      "cell_type": "markdown",
      "source": [
        "<a id=\"one\"></a>\n",
        "## 1.1 Python Package Installation\n",
        "<a href=#cont>Back to Table of Contents</a>\n",
        "\n",
        "To run this notebook, install the following root packages on your local machine:\n",
        "\n",
        "- matplotlib\n",
        "- nltk\n",
        "- numpy\n",
        "- pandas\n",
        "- plotly\n",
        "- scikit-learn\n",
        "- seaborn\n",
        "- surprise\n",
        "- Comet"
      ],
      "metadata": {
        "id": "phBYklX1mmlA"
      }
    },
    {
      "cell_type": "code",
      "source": [
        "# --> uncomment these lines below if the dependent code cells do not run\n",
        "\n",
        "#!pip install comet_ml # Comet installation for Jupyter Notebook/Collab\n",
        "#!pip install git+https://github.com/microsoft/recommenders.git\n",
        "#!pip install kneed # knee (/elbow) point detection for cluster optimization\n",
        "#!pip install tf_slim\n",
        "#!pip install downcast\n",
        "##pip install scikit-surprise\n",
        "#!pip install ipython-autotime\n",
        "#!pip install surprise"
      ],
      "metadata": {
        "execution": {
          "iopub.status.busy": "2023-01-30T09:53:31.078943Z",
          "iopub.execute_input": "2023-01-30T09:53:31.079416Z",
          "iopub.status.idle": "2023-01-30T09:53:50.575317Z",
          "shell.execute_reply.started": "2023-01-30T09:53:31.079376Z",
          "shell.execute_reply": "2023-01-30T09:53:50.574096Z"
        },
        "trusted": true,
        "id": "YlCVYftymmlA"
      },
      "execution_count": 6,
      "outputs": []
    },
    {
      "cell_type": "markdown",
      "source": [
        " <a id=\"one\"></a>\n",
        "## 1.2 Comet Initialization\n",
        "<a class=\"anchor\" id=\"1.1\"></a>\n",
        "<a href=#cont>Back to Table of Contents</a>\n",
        "\n",
        "Due to the way Comet ties into other Maching Learning packages automatically to track certain features, it is required to be one of the first packages imported at the top of the notebook."
      ],
      "metadata": {
        "id": "v97zyHt0mmlC"
      }
    },
    {
      "cell_type": "code",
      "source": [
        "# Create an instance of Comet experiment with TeamNM3's API key\n",
        "experiment = Experiment(\n",
        "    api_key=\"RpnzF8DcMSor3mXqAfEQqsXjv\",\n",
        "    project_name=\"unsupervised-learning-predict\",\n",
        "    workspace=\"teamnm3\",\n",
        ")"
      ],
      "metadata": {
        "id": "wjTmThpEmmlD"
      },
      "execution_count": null,
      "outputs": []
    },
    {
      "cell_type": "markdown",
      "source": [
        " <a id=\"one\"></a>\n",
        "## 1.3 Importing Packages\n",
        "<a class=\"anchor\" id=\"1.2\"></a>\n",
        "<a href=#cont>Back to Table of Contents</a>\n",
        "\n",
        "---\n",
        "    \n",
        "| ⚡ Description: Importing Packages ⚡ |\n",
        "| :--------------------------- |\n",
        "| Below are the libraries and tools imported for use in this project. The libraries include:\n",
        "   - **numpy**: for working with arrays,\n",
        "   - **pandas**: for tansforming and manipulating data in tables,\n",
        "   - **matplotlib**: for creating interactive visualisations,\n",
        "   - **seaborn**: for making statistical graphs and plots,\n",
        "   - **scikit-learn**: for machine learning and statistical modeling, and\n",
        "   - **math**: for algebraic notations and calculations.\n",
        "\n",
        "---"
      ],
      "metadata": {
        "id": "9cac80eb"
      }
    },
    {
      "cell_type": "code",
      "source": [
        "# Libraries for data loading, data manipulation and data visulisation \n",
        "# Import our regular old heroes \n",
        "import numpy as np\n",
        "import pandas as pd\n",
        "import datetime\n",
        "import time\n",
        "import re\n",
        "import scipy as sp # <-- The sister of Numpy, used in our code for numerical efficientcy. \n",
        "import matplotlib.pyplot as plt\n",
        "import seaborn as sns\n",
        "from plotly.offline import init_notebook_mode, iplot, plot\n",
        "from plotly.subplots import make_subplots\n",
        "import plotly.express as px\n",
        "import plotly.figure_factory as ff\n",
        "import plotly.graph_objects as go\n",
        "import plotly.graph_objs as go\n",
        "import plotly.offline as pyo\n",
        "\n",
        "from sklearn.metrics.pairwise import cosine_similarity\n",
        "from sklearn.preprocessing import StandardScaler # for standardization \n",
        "from sklearn.feature_extraction.text import TfidfVectorizer\n",
        "from sklearn.feature_extraction.text import CountVectorizer\n",
        "from sklearn.decomposition import TruncatedSVD\n",
        "from sklearn.decomposition import PCA\n",
        "from sklearn import (manifold, datasets, decomposition, ensemble,\n",
        "                     discriminant_analysis, random_projection, preprocessing)\n",
        "\n",
        "from sklearn import preprocessing as pp\n",
        "from sklearn.model_selection import train_test_split\n",
        "from sklearn.model_selection import StratifiedKFold\n",
        "from sklearn.metrics import log_loss\n",
        "from sklearn.metrics import precision_recall_curve, average_precision_score\n",
        "from sklearn.metrics import roc_curve, auc, roc_auc_score, mean_squared_error\n",
        "\n",
        "# Additional packages\n",
        "import warnings\n",
        "from collections import OrderedDict\n",
        "from datetime import date\n",
        "#from comet_ml import Experiment\n",
        "\n",
        "# Entity featurization and similarity computation\n",
        "from sklearn.metrics.pairwise import cosine_similarity \n",
        "from sklearn.feature_extraction.text import TfidfVectorizer\n",
        "from wordcloud import WordCloud, STOPWORDS\n",
        "\n",
        "# Libraries used during sorting procedures.\n",
        "import operator # <-- Convienient item retrieval during iteration \n",
        "import heapq # <-- Efficient sorting of large lists\n",
        "\n",
        "from surprise import (\n",
        "    NMF,\n",
        "    SVD,\n",
        "    BaselineOnly,\n",
        "    CoClustering,\n",
        "    Dataset,\n",
        "    KNNBasic,\n",
        "    NormalPredictor,\n",
        "    Reader,\n",
        "    SlopeOne,\n",
        "    SVDpp,\n",
        ")\n",
        "from surprise import accuracy\n",
        "from surprise.model_selection import GridSearchCV, cross_validate, train_test_split\n",
        "\n",
        "# Imported for our sanity\n",
        "import warnings\n",
        "warnings.filterwarnings('ignore')"
      ],
      "metadata": {
        "id": "ebba6e7e",
        "execution": {
          "iopub.status.busy": "2023-01-31T17:46:32.126092Z",
          "iopub.execute_input": "2023-01-31T17:46:32.126529Z",
          "iopub.status.idle": "2023-01-31T17:46:32.139743Z",
          "shell.execute_reply.started": "2023-01-31T17:46:32.126478Z",
          "shell.execute_reply": "2023-01-31T17:46:32.138490Z"
        },
        "trusted": true
      },
      "execution_count": 4,
      "outputs": []
    },
    {
      "cell_type": "markdown",
      "source": [
        "# Section 2: Data"
      ],
      "metadata": {
        "id": "1aOleH6cmmlF"
      }
    },
    {
      "cell_type": "markdown",
      "source": [
        "<a id=\"two\"></a>\n",
        "## 2.1 Download of dataset\n",
        "<a class=\"anchor\" id=\"1.2\"></a>\n",
        "<a href=#cont>Back to Table of Contents</a>\n",
        "\n",
        "---\n",
        "    \n",
        "| ⚡ Description: Loading the data ⚡ |\n",
        "| :--------------------------- |\n",
        "| In this section, data is loaded from **Kaggle** made available to **TeamNM3** by the client, **Explore-AI**. This involves reading the data from the `.csv` file format into a Pandas dataframe. The Pandas dataframe allows for easy views and manipulations of the data in the form of tables and can be combined with other python libraries like numpy for desirable results. |\n",
        "\n",
        "---"
      ],
      "metadata": {
        "id": "b16bd964"
      }
    },
    {
      "cell_type": "code",
      "source": [
        "# Import Data\n",
        "\n",
        "# Kaggle base path\n",
        "#base_path = \"../input/edsa-recommender-system-predict/\"\n",
        "base_path = \"/kaggle/input/edsa-movie-recommendation-predict/\"\n",
        "\n",
        "# # Local base path\n",
        "# base_path = \"../../edsa-recommender-predict/\"\n",
        "\n",
        "df_ratings = pd.read_csv(base_path + \"train.csv\")\n",
        "df_movies = pd.read_csv(base_path + \"movies.csv\")\n",
        "df_imdb = pd.read_csv(base_path + \"imdb_data.csv\")\n",
        "\n",
        "df_genome_scores = pd.read_csv(base_path + \"genome_scores.csv\")\n",
        "df_genome_tags = pd.read_csv(base_path + \"genome_tags.csv\")\n",
        "df_links = pd.read_csv(base_path + \"links.csv\")\n",
        "df_tags = pd.read_csv(base_path + \"tags.csv\")\n",
        "df_rating = pd.read_csv('/kaggle/input/movie-lens-small-latest-dataset/ratings.csv')\n",
        "\n",
        "df_test = pd.read_csv(base_path + \"test.csv\")\n",
        "sample_submission = pd.read_csv(base_path + \"sample_submission.csv\")"
      ],
      "metadata": {
        "execution": {
          "iopub.status.busy": "2023-01-31T17:46:43.869545Z",
          "iopub.execute_input": "2023-01-31T17:46:43.869933Z",
          "iopub.status.idle": "2023-01-31T17:46:56.400666Z",
          "shell.execute_reply.started": "2023-01-31T17:46:43.869902Z",
          "shell.execute_reply": "2023-01-31T17:46:56.399581Z"
        },
        "trusted": true,
        "colab": {
          "base_uri": "https://localhost:8080/",
          "height": 398
        },
        "id": "ziyI-VCImmlG",
        "outputId": "fa2d53b3-d0c2-4d7f-ecba-0543fcaefdec"
      },
      "execution_count": 5,
      "outputs": [
        {
          "output_type": "error",
          "ename": "FileNotFoundError",
          "evalue": "ignored",
          "traceback": [
            "\u001b[0;31m---------------------------------------------------------------------------\u001b[0m",
            "\u001b[0;31mFileNotFoundError\u001b[0m                         Traceback (most recent call last)",
            "\u001b[0;32m<ipython-input-5-c0d78c343f46>\u001b[0m in \u001b[0;36m<module>\u001b[0;34m\u001b[0m\n\u001b[1;32m      8\u001b[0m \u001b[0;31m# base_path = \"../../edsa-recommender-predict/\"\u001b[0m\u001b[0;34m\u001b[0m\u001b[0;34m\u001b[0m\u001b[0;34m\u001b[0m\u001b[0m\n\u001b[1;32m      9\u001b[0m \u001b[0;34m\u001b[0m\u001b[0m\n\u001b[0;32m---> 10\u001b[0;31m \u001b[0mdf_ratings\u001b[0m \u001b[0;34m=\u001b[0m \u001b[0mpd\u001b[0m\u001b[0;34m.\u001b[0m\u001b[0mread_csv\u001b[0m\u001b[0;34m(\u001b[0m\u001b[0mbase_path\u001b[0m \u001b[0;34m+\u001b[0m \u001b[0;34m\"train.csv\"\u001b[0m\u001b[0;34m)\u001b[0m\u001b[0;34m\u001b[0m\u001b[0;34m\u001b[0m\u001b[0m\n\u001b[0m\u001b[1;32m     11\u001b[0m \u001b[0mdf_movies\u001b[0m \u001b[0;34m=\u001b[0m \u001b[0mpd\u001b[0m\u001b[0;34m.\u001b[0m\u001b[0mread_csv\u001b[0m\u001b[0;34m(\u001b[0m\u001b[0mbase_path\u001b[0m \u001b[0;34m+\u001b[0m \u001b[0;34m\"movies.csv\"\u001b[0m\u001b[0;34m)\u001b[0m\u001b[0;34m\u001b[0m\u001b[0;34m\u001b[0m\u001b[0m\n\u001b[1;32m     12\u001b[0m \u001b[0mdf_imdb\u001b[0m \u001b[0;34m=\u001b[0m \u001b[0mpd\u001b[0m\u001b[0;34m.\u001b[0m\u001b[0mread_csv\u001b[0m\u001b[0;34m(\u001b[0m\u001b[0mbase_path\u001b[0m \u001b[0;34m+\u001b[0m \u001b[0;34m\"imdb_data.csv\"\u001b[0m\u001b[0;34m)\u001b[0m\u001b[0;34m\u001b[0m\u001b[0;34m\u001b[0m\u001b[0m\n",
            "\u001b[0;32m/usr/local/lib/python3.8/dist-packages/pandas/util/_decorators.py\u001b[0m in \u001b[0;36mwrapper\u001b[0;34m(*args, **kwargs)\u001b[0m\n\u001b[1;32m    309\u001b[0m                     \u001b[0mstacklevel\u001b[0m\u001b[0;34m=\u001b[0m\u001b[0mstacklevel\u001b[0m\u001b[0;34m,\u001b[0m\u001b[0;34m\u001b[0m\u001b[0;34m\u001b[0m\u001b[0m\n\u001b[1;32m    310\u001b[0m                 )\n\u001b[0;32m--> 311\u001b[0;31m             \u001b[0;32mreturn\u001b[0m \u001b[0mfunc\u001b[0m\u001b[0;34m(\u001b[0m\u001b[0;34m*\u001b[0m\u001b[0margs\u001b[0m\u001b[0;34m,\u001b[0m \u001b[0;34m**\u001b[0m\u001b[0mkwargs\u001b[0m\u001b[0;34m)\u001b[0m\u001b[0;34m\u001b[0m\u001b[0;34m\u001b[0m\u001b[0m\n\u001b[0m\u001b[1;32m    312\u001b[0m \u001b[0;34m\u001b[0m\u001b[0m\n\u001b[1;32m    313\u001b[0m         \u001b[0;32mreturn\u001b[0m \u001b[0mwrapper\u001b[0m\u001b[0;34m\u001b[0m\u001b[0;34m\u001b[0m\u001b[0m\n",
            "\u001b[0;32m/usr/local/lib/python3.8/dist-packages/pandas/io/parsers/readers.py\u001b[0m in \u001b[0;36mread_csv\u001b[0;34m(filepath_or_buffer, sep, delimiter, header, names, index_col, usecols, squeeze, prefix, mangle_dupe_cols, dtype, engine, converters, true_values, false_values, skipinitialspace, skiprows, skipfooter, nrows, na_values, keep_default_na, na_filter, verbose, skip_blank_lines, parse_dates, infer_datetime_format, keep_date_col, date_parser, dayfirst, cache_dates, iterator, chunksize, compression, thousands, decimal, lineterminator, quotechar, quoting, doublequote, escapechar, comment, encoding, encoding_errors, dialect, error_bad_lines, warn_bad_lines, on_bad_lines, delim_whitespace, low_memory, memory_map, float_precision, storage_options)\u001b[0m\n\u001b[1;32m    584\u001b[0m     \u001b[0mkwds\u001b[0m\u001b[0;34m.\u001b[0m\u001b[0mupdate\u001b[0m\u001b[0;34m(\u001b[0m\u001b[0mkwds_defaults\u001b[0m\u001b[0;34m)\u001b[0m\u001b[0;34m\u001b[0m\u001b[0;34m\u001b[0m\u001b[0m\n\u001b[1;32m    585\u001b[0m \u001b[0;34m\u001b[0m\u001b[0m\n\u001b[0;32m--> 586\u001b[0;31m     \u001b[0;32mreturn\u001b[0m \u001b[0m_read\u001b[0m\u001b[0;34m(\u001b[0m\u001b[0mfilepath_or_buffer\u001b[0m\u001b[0;34m,\u001b[0m \u001b[0mkwds\u001b[0m\u001b[0;34m)\u001b[0m\u001b[0;34m\u001b[0m\u001b[0;34m\u001b[0m\u001b[0m\n\u001b[0m\u001b[1;32m    587\u001b[0m \u001b[0;34m\u001b[0m\u001b[0m\n\u001b[1;32m    588\u001b[0m \u001b[0;34m\u001b[0m\u001b[0m\n",
            "\u001b[0;32m/usr/local/lib/python3.8/dist-packages/pandas/io/parsers/readers.py\u001b[0m in \u001b[0;36m_read\u001b[0;34m(filepath_or_buffer, kwds)\u001b[0m\n\u001b[1;32m    480\u001b[0m \u001b[0;34m\u001b[0m\u001b[0m\n\u001b[1;32m    481\u001b[0m     \u001b[0;31m# Create the parser.\u001b[0m\u001b[0;34m\u001b[0m\u001b[0;34m\u001b[0m\u001b[0;34m\u001b[0m\u001b[0m\n\u001b[0;32m--> 482\u001b[0;31m     \u001b[0mparser\u001b[0m \u001b[0;34m=\u001b[0m \u001b[0mTextFileReader\u001b[0m\u001b[0;34m(\u001b[0m\u001b[0mfilepath_or_buffer\u001b[0m\u001b[0;34m,\u001b[0m \u001b[0;34m**\u001b[0m\u001b[0mkwds\u001b[0m\u001b[0;34m)\u001b[0m\u001b[0;34m\u001b[0m\u001b[0;34m\u001b[0m\u001b[0m\n\u001b[0m\u001b[1;32m    483\u001b[0m \u001b[0;34m\u001b[0m\u001b[0m\n\u001b[1;32m    484\u001b[0m     \u001b[0;32mif\u001b[0m \u001b[0mchunksize\u001b[0m \u001b[0;32mor\u001b[0m \u001b[0miterator\u001b[0m\u001b[0;34m:\u001b[0m\u001b[0;34m\u001b[0m\u001b[0;34m\u001b[0m\u001b[0m\n",
            "\u001b[0;32m/usr/local/lib/python3.8/dist-packages/pandas/io/parsers/readers.py\u001b[0m in \u001b[0;36m__init__\u001b[0;34m(self, f, engine, **kwds)\u001b[0m\n\u001b[1;32m    809\u001b[0m             \u001b[0mself\u001b[0m\u001b[0;34m.\u001b[0m\u001b[0moptions\u001b[0m\u001b[0;34m[\u001b[0m\u001b[0;34m\"has_index_names\"\u001b[0m\u001b[0;34m]\u001b[0m \u001b[0;34m=\u001b[0m \u001b[0mkwds\u001b[0m\u001b[0;34m[\u001b[0m\u001b[0;34m\"has_index_names\"\u001b[0m\u001b[0;34m]\u001b[0m\u001b[0;34m\u001b[0m\u001b[0;34m\u001b[0m\u001b[0m\n\u001b[1;32m    810\u001b[0m \u001b[0;34m\u001b[0m\u001b[0m\n\u001b[0;32m--> 811\u001b[0;31m         \u001b[0mself\u001b[0m\u001b[0;34m.\u001b[0m\u001b[0m_engine\u001b[0m \u001b[0;34m=\u001b[0m \u001b[0mself\u001b[0m\u001b[0;34m.\u001b[0m\u001b[0m_make_engine\u001b[0m\u001b[0;34m(\u001b[0m\u001b[0mself\u001b[0m\u001b[0;34m.\u001b[0m\u001b[0mengine\u001b[0m\u001b[0;34m)\u001b[0m\u001b[0;34m\u001b[0m\u001b[0;34m\u001b[0m\u001b[0m\n\u001b[0m\u001b[1;32m    812\u001b[0m \u001b[0;34m\u001b[0m\u001b[0m\n\u001b[1;32m    813\u001b[0m     \u001b[0;32mdef\u001b[0m \u001b[0mclose\u001b[0m\u001b[0;34m(\u001b[0m\u001b[0mself\u001b[0m\u001b[0;34m)\u001b[0m\u001b[0;34m:\u001b[0m\u001b[0;34m\u001b[0m\u001b[0;34m\u001b[0m\u001b[0m\n",
            "\u001b[0;32m/usr/local/lib/python3.8/dist-packages/pandas/io/parsers/readers.py\u001b[0m in \u001b[0;36m_make_engine\u001b[0;34m(self, engine)\u001b[0m\n\u001b[1;32m   1038\u001b[0m             )\n\u001b[1;32m   1039\u001b[0m         \u001b[0;31m# error: Too many arguments for \"ParserBase\"\u001b[0m\u001b[0;34m\u001b[0m\u001b[0;34m\u001b[0m\u001b[0;34m\u001b[0m\u001b[0m\n\u001b[0;32m-> 1040\u001b[0;31m         \u001b[0;32mreturn\u001b[0m \u001b[0mmapping\u001b[0m\u001b[0;34m[\u001b[0m\u001b[0mengine\u001b[0m\u001b[0;34m]\u001b[0m\u001b[0;34m(\u001b[0m\u001b[0mself\u001b[0m\u001b[0;34m.\u001b[0m\u001b[0mf\u001b[0m\u001b[0;34m,\u001b[0m \u001b[0;34m**\u001b[0m\u001b[0mself\u001b[0m\u001b[0;34m.\u001b[0m\u001b[0moptions\u001b[0m\u001b[0;34m)\u001b[0m  \u001b[0;31m# type: ignore[call-arg]\u001b[0m\u001b[0;34m\u001b[0m\u001b[0;34m\u001b[0m\u001b[0m\n\u001b[0m\u001b[1;32m   1041\u001b[0m \u001b[0;34m\u001b[0m\u001b[0m\n\u001b[1;32m   1042\u001b[0m     \u001b[0;32mdef\u001b[0m \u001b[0m_failover_to_python\u001b[0m\u001b[0;34m(\u001b[0m\u001b[0mself\u001b[0m\u001b[0;34m)\u001b[0m\u001b[0;34m:\u001b[0m\u001b[0;34m\u001b[0m\u001b[0;34m\u001b[0m\u001b[0m\n",
            "\u001b[0;32m/usr/local/lib/python3.8/dist-packages/pandas/io/parsers/c_parser_wrapper.py\u001b[0m in \u001b[0;36m__init__\u001b[0;34m(self, src, **kwds)\u001b[0m\n\u001b[1;32m     49\u001b[0m \u001b[0;34m\u001b[0m\u001b[0m\n\u001b[1;32m     50\u001b[0m         \u001b[0;31m# open handles\u001b[0m\u001b[0;34m\u001b[0m\u001b[0;34m\u001b[0m\u001b[0;34m\u001b[0m\u001b[0m\n\u001b[0;32m---> 51\u001b[0;31m         \u001b[0mself\u001b[0m\u001b[0;34m.\u001b[0m\u001b[0m_open_handles\u001b[0m\u001b[0;34m(\u001b[0m\u001b[0msrc\u001b[0m\u001b[0;34m,\u001b[0m \u001b[0mkwds\u001b[0m\u001b[0;34m)\u001b[0m\u001b[0;34m\u001b[0m\u001b[0;34m\u001b[0m\u001b[0m\n\u001b[0m\u001b[1;32m     52\u001b[0m         \u001b[0;32massert\u001b[0m \u001b[0mself\u001b[0m\u001b[0;34m.\u001b[0m\u001b[0mhandles\u001b[0m \u001b[0;32mis\u001b[0m \u001b[0;32mnot\u001b[0m \u001b[0;32mNone\u001b[0m\u001b[0;34m\u001b[0m\u001b[0;34m\u001b[0m\u001b[0m\n\u001b[1;32m     53\u001b[0m \u001b[0;34m\u001b[0m\u001b[0m\n",
            "\u001b[0;32m/usr/local/lib/python3.8/dist-packages/pandas/io/parsers/base_parser.py\u001b[0m in \u001b[0;36m_open_handles\u001b[0;34m(self, src, kwds)\u001b[0m\n\u001b[1;32m    220\u001b[0m         \u001b[0mLet\u001b[0m \u001b[0mthe\u001b[0m \u001b[0mreaders\u001b[0m \u001b[0mopen\u001b[0m \u001b[0mIOHandles\u001b[0m \u001b[0mafter\u001b[0m \u001b[0mthey\u001b[0m \u001b[0mare\u001b[0m \u001b[0mdone\u001b[0m \u001b[0;32mwith\u001b[0m \u001b[0mtheir\u001b[0m \u001b[0mpotential\u001b[0m \u001b[0mraises\u001b[0m\u001b[0;34m.\u001b[0m\u001b[0;34m\u001b[0m\u001b[0;34m\u001b[0m\u001b[0m\n\u001b[1;32m    221\u001b[0m         \"\"\"\n\u001b[0;32m--> 222\u001b[0;31m         self.handles = get_handle(\n\u001b[0m\u001b[1;32m    223\u001b[0m             \u001b[0msrc\u001b[0m\u001b[0;34m,\u001b[0m\u001b[0;34m\u001b[0m\u001b[0;34m\u001b[0m\u001b[0m\n\u001b[1;32m    224\u001b[0m             \u001b[0;34m\"r\"\u001b[0m\u001b[0;34m,\u001b[0m\u001b[0;34m\u001b[0m\u001b[0;34m\u001b[0m\u001b[0m\n",
            "\u001b[0;32m/usr/local/lib/python3.8/dist-packages/pandas/io/common.py\u001b[0m in \u001b[0;36mget_handle\u001b[0;34m(path_or_buf, mode, encoding, compression, memory_map, is_text, errors, storage_options)\u001b[0m\n\u001b[1;32m    700\u001b[0m         \u001b[0;32mif\u001b[0m \u001b[0mioargs\u001b[0m\u001b[0;34m.\u001b[0m\u001b[0mencoding\u001b[0m \u001b[0;32mand\u001b[0m \u001b[0;34m\"b\"\u001b[0m \u001b[0;32mnot\u001b[0m \u001b[0;32min\u001b[0m \u001b[0mioargs\u001b[0m\u001b[0;34m.\u001b[0m\u001b[0mmode\u001b[0m\u001b[0;34m:\u001b[0m\u001b[0;34m\u001b[0m\u001b[0;34m\u001b[0m\u001b[0m\n\u001b[1;32m    701\u001b[0m             \u001b[0;31m# Encoding\u001b[0m\u001b[0;34m\u001b[0m\u001b[0;34m\u001b[0m\u001b[0;34m\u001b[0m\u001b[0m\n\u001b[0;32m--> 702\u001b[0;31m             handle = open(\n\u001b[0m\u001b[1;32m    703\u001b[0m                 \u001b[0mhandle\u001b[0m\u001b[0;34m,\u001b[0m\u001b[0;34m\u001b[0m\u001b[0;34m\u001b[0m\u001b[0m\n\u001b[1;32m    704\u001b[0m                 \u001b[0mioargs\u001b[0m\u001b[0;34m.\u001b[0m\u001b[0mmode\u001b[0m\u001b[0;34m,\u001b[0m\u001b[0;34m\u001b[0m\u001b[0;34m\u001b[0m\u001b[0m\n",
            "\u001b[0;31mFileNotFoundError\u001b[0m: [Errno 2] No such file or directory: '/kaggle/input/edsa-movie-recommendation-predict/train.csv'"
          ]
        }
      ]
    },
    {
      "cell_type": "markdown",
      "source": [
        "<a id=\"three\"></a>\n",
        "## 2.2 Basic Data Analysis \n",
        "<a class=\"anchor\" id=\"1.1\"></a>\n",
        "<a href=#cont>Back to Table of Contents</a>\n",
        "\n",
        "In this section we perform a basic analysis of the data in the various CSVs to develop an understanding of the data we're able to work with. We conclude this basic data analysis by combining all the data into one dataframe and then continuing into a more in-depth analysis."
      ],
      "metadata": {
        "id": "OIfzLzT9mmlG"
      }
    },
    {
      "cell_type": "markdown",
      "source": [
        "### Ratings DataFrame\n",
        "\n",
        "We begin this basic data analysis by examining the ratings dataframe."
      ],
      "metadata": {
        "id": "7DcdCE22mmlG"
      }
    },
    {
      "cell_type": "code",
      "source": [
        "# Display top 5 rows of dataframe\n",
        "df_ratings.head()"
      ],
      "metadata": {
        "execution": {
          "iopub.status.busy": "2023-01-28T17:01:09.833584Z",
          "iopub.execute_input": "2023-01-28T17:01:09.833996Z",
          "iopub.status.idle": "2023-01-28T17:01:09.844889Z",
          "shell.execute_reply.started": "2023-01-28T17:01:09.833966Z",
          "shell.execute_reply": "2023-01-28T17:01:09.843998Z"
        },
        "trusted": true,
        "id": "lGRFKqX6mmlG"
      },
      "execution_count": null,
      "outputs": []
    },
    {
      "cell_type": "code",
      "source": [
        "# Gather information about the dataframe\n",
        "df_ratings.info()"
      ],
      "metadata": {
        "execution": {
          "iopub.status.busy": "2023-01-28T17:01:45.863813Z",
          "iopub.execute_input": "2023-01-28T17:01:45.864211Z",
          "iopub.status.idle": "2023-01-28T17:01:45.875720Z",
          "shell.execute_reply.started": "2023-01-28T17:01:45.864175Z",
          "shell.execute_reply": "2023-01-28T17:01:45.874563Z"
        },
        "trusted": true,
        "id": "lKl_dSxjmmlI"
      },
      "execution_count": null,
      "outputs": []
    },
    {
      "cell_type": "code",
      "source": [
        "# Check if dataframe as any null values\n",
        "df_ratings.isnull().sum()"
      ],
      "metadata": {
        "execution": {
          "iopub.status.busy": "2023-01-28T17:02:32.913447Z",
          "iopub.execute_input": "2023-01-28T17:02:32.913901Z",
          "iopub.status.idle": "2023-01-28T17:02:32.950447Z",
          "shell.execute_reply.started": "2023-01-28T17:02:32.913866Z",
          "shell.execute_reply": "2023-01-28T17:02:32.949374Z"
        },
        "trusted": true,
        "id": "YKbQmoy8mmlI"
      },
      "execution_count": null,
      "outputs": []
    },
    {
      "cell_type": "markdown",
      "source": [
        "We then create a dataframe to display the count and percentage of each rating value in the dataset."
      ],
      "metadata": {
        "id": "q4RfBw6gmmlJ"
      }
    },
    {
      "cell_type": "code",
      "source": [
        "# Determining number of rows for each rating value\n",
        "rows_rating = df_ratings[\"rating\"].value_counts()\n",
        "rows_df_rating = pd.DataFrame({\"rating\": rows_rating.index, \"Rows\": rows_rating.values})\n",
        "\n",
        "# Determining percentage of rows for each rating value\n",
        "percentage_rating = round(df_ratings[\"rating\"].value_counts(normalize=True) * 100, 2)\n",
        "percentage_df_rating = pd.DataFrame(\n",
        "    {\"rating\": percentage_rating.index, \"Percentage\": percentage_rating.values}\n",
        ")\n",
        "\n",
        "# Joining row and percentage information\n",
        "ratings_df_distribution = pd.merge(\n",
        "    rows_df_rating, percentage_df_rating, on=\"rating\", how=\"outer\"\n",
        ")\n",
        "ratings_df_distribution.set_index(\"rating\", inplace=True)\n",
        "ratings_df_distribution.sort_index(axis=0)"
      ],
      "metadata": {
        "execution": {
          "iopub.status.busy": "2023-01-28T17:09:08.171301Z",
          "iopub.execute_input": "2023-01-28T17:09:08.171756Z",
          "iopub.status.idle": "2023-01-28T17:09:08.448458Z",
          "shell.execute_reply.started": "2023-01-28T17:09:08.171680Z",
          "shell.execute_reply": "2023-01-28T17:09:08.447496Z"
        },
        "trusted": true,
        "id": "yJWJj2lnmmlJ"
      },
      "execution_count": null,
      "outputs": []
    },
    {
      "cell_type": "markdown",
      "source": [
        "In the dataframe above we can see that 4.0 is the most commonly score, with 26.53% of the movies in the dataframe assigned that score.\n",
        "\n",
        "We visualize the data below:"
      ],
      "metadata": {
        "id": "gLrxiL7kmmlJ"
      }
    },
    {
      "cell_type": "code",
      "source": [
        "pyo.init_notebook_mode()\n",
        "init_notebook_mode(connected=True)\n",
        "data = df_ratings[\"rating\"].value_counts().sort_index(ascending=False)\n",
        "\n",
        "# Plot data\n",
        "trace = go.Bar(\n",
        "    x=data.index,\n",
        "    text=[\"{:.1f} %\".format(val) for val in (data.values / df_ratings.shape[0] * 100)],\n",
        "    textposition=\"auto\",\n",
        "    textfont=dict(color=\"#000000\"),\n",
        "    y=data.values,\n",
        ")\n",
        "\n",
        "# Create layout\n",
        "layout = dict(\n",
        "    title=\"Distribution Of {} ratings\".format(ratings_df.shape[0]),\n",
        "    xaxis=dict(title=\"Rating\"),\n",
        "    yaxis=dict(title=\"Count\"),\n",
        ")\n",
        "\n",
        "# Create plot\n",
        "fig = go.Figure(data=[trace], layout=layout)\n",
        "pyo.iplot(fig)"
      ],
      "metadata": {
        "execution": {
          "iopub.status.busy": "2023-01-28T17:13:38.223382Z",
          "iopub.execute_input": "2023-01-28T17:13:38.223780Z",
          "iopub.status.idle": "2023-01-28T17:13:39.113493Z",
          "shell.execute_reply.started": "2023-01-28T17:13:38.223744Z",
          "shell.execute_reply": "2023-01-28T17:13:39.112123Z"
        },
        "trusted": true,
        "id": "bpJL9Bv-mmlJ"
      },
      "execution_count": null,
      "outputs": []
    },
    {
      "cell_type": "markdown",
      "source": [
        "we see half scores (0.5, 1.5, 2.5, 3.5 and 4.5) are less commonly used than integer score values. We don't know if this is because users prefer to rate movies with integer values or if it's because half scores were introduced after the original scoring system was already in use, leading to a decreased volume in a dataset with ratings from 1995. We quickly attempt to understand this further by investigating which years recorded half-score ratings:"
      ],
      "metadata": {
        "id": "RTfCNbZWmmlK"
      }
    },
    {
      "cell_type": "code",
      "source": [
        "# Create list of date objects\n",
        "rating_date_list = [\n",
        "    date.fromtimestamp(timestamp) for timestamp in list(df_ratings[\"timestamp\"])\n",
        "]\n",
        "\n",
        "# Create year column\n",
        "df_ratings[\"review_year\"] = [date_item.year for date_item in rating_date_list]\n",
        "years_with_half_scores = df_ratings[\n",
        "    df_ratings[\"rating\"].isin([0.5, 1.5, 2.5, 3.5, 4.5])\n",
        "][\"review_year\"]\n",
        "unique_years_with_half_scores = set(years_with_half_scores)\n",
        "print(\n",
        "    \"There are {} years with half scores. \\nThey are: {}.\".format(\n",
        "        len(unique_years_with_half_scores), sorted(list(unique_years_with_half_scores))\n",
        "    )\n",
        ")"
      ],
      "metadata": {
        "execution": {
          "iopub.status.busy": "2023-01-31T18:02:35.475585Z",
          "iopub.execute_input": "2023-01-31T18:02:35.476001Z",
          "iopub.status.idle": "2023-01-31T18:02:45.231910Z",
          "shell.execute_reply.started": "2023-01-31T18:02:35.475967Z",
          "shell.execute_reply": "2023-01-31T18:02:45.230633Z"
        },
        "trusted": true,
        "id": "8cbwzcX_mmlK"
      },
      "execution_count": null,
      "outputs": []
    },
    {
      "cell_type": "markdown",
      "source": [
        "We can see that before 2003, movies were not rated with half scores.\n",
        "\n",
        "we'll check the percentage of half scores of the total for the ratings from 2003 onwards:"
      ],
      "metadata": {
        "id": "PP83crLommlK"
      }
    },
    {
      "cell_type": "code",
      "source": [
        "all_scores_after_2003 = len(df_ratings[\"rating\"])\n",
        "number_of_years_with_half_scores = len(years_with_half_scores)\n",
        "print(\n",
        "    \"The percentage of reviews with half scores in the data from 2003 onwards is {:.2%}\".format(\n",
        "        number_of_years_with_half_scores / all_scores_after_2003\n",
        "    )\n",
        ")"
      ],
      "metadata": {
        "execution": {
          "iopub.status.busy": "2023-01-28T17:23:25.582369Z",
          "iopub.execute_input": "2023-01-28T17:23:25.582761Z",
          "iopub.status.idle": "2023-01-28T17:23:25.589395Z",
          "shell.execute_reply.started": "2023-01-28T17:23:25.582728Z",
          "shell.execute_reply": "2023-01-28T17:23:25.588167Z"
        },
        "trusted": true,
        "id": "oDGK0n4MmmlL"
      },
      "execution_count": null,
      "outputs": []
    },
    {
      "cell_type": "markdown",
      "source": [
        "We can see that half scores are not as popular as integer scores.\n",
        "\n",
        "\n",
        "Now we examine the user data:"
      ],
      "metadata": {
        "id": "qZbFi8twmmlL"
      }
    },
    {
      "cell_type": "code",
      "source": [
        "# Find the total number of users and movies and the number of unique users \n",
        "# and movies\n",
        "unique_users = df_ratings[\"userId\"].nunique()\n",
        "total_users = len(df_ratings[\"userId\"])\n",
        "unique_movies = df_ratings[\"movieId\"].nunique()\n",
        "total_movies = len(df_ratings[\"movieId\"])\n",
        "\n",
        "# Display these values\n",
        "print(\n",
        "    \"Total number of unique users: \\t{} \\n\"\n",
        "    \"Total number of unique movies: \\t{}\\n\"\n",
        "    \"Percentage of unique users: \\t{:.2%}\\n\"\n",
        "    \"Percentage of unique movies: \\t{:.2%}\".format(\n",
        "        unique_users,\n",
        "        unique_movies,\n",
        "        unique_users / total_users,\n",
        "        unique_movies / total_movies,\n",
        "    )\n",
        ")"
      ],
      "metadata": {
        "execution": {
          "iopub.status.busy": "2023-01-28T17:26:32.877579Z",
          "iopub.execute_input": "2023-01-28T17:26:32.877970Z",
          "iopub.status.idle": "2023-01-28T17:26:33.006900Z",
          "shell.execute_reply.started": "2023-01-28T17:26:32.877940Z",
          "shell.execute_reply": "2023-01-28T17:26:33.005860Z"
        },
        "trusted": true,
        "id": "gD12qFOXmmlL"
      },
      "execution_count": null,
      "outputs": []
    },
    {
      "cell_type": "markdown",
      "source": [
        "The percentage of unique users and movies are both low.\n",
        "\n",
        "\n",
        "We now move on to exploring the ratings dataframe."
      ],
      "metadata": {
        "id": "KASpBZe6mmlL"
      }
    },
    {
      "cell_type": "markdown",
      "source": [
        "**Summary of the basic analysis of the Ratings DataFrame**\n",
        "\n",
        "The ratings dataframe consists of 10'000'038 rows and 4 columns (userId, movieID, rating and timestamp).\n",
        "\n",
        "Ratings are from 0.5 to 5 in increments of 0.5. The majority of ratings were a 4, comprising of close to 27% of all the given data.\n",
        "\n",
        "The data contains 162'541 unique users and 48'213 movies were rated.\n",
        "\n",
        "Integer scores appear favoured over half scores, which were only introduced in 2003"
      ],
      "metadata": {
        "id": "UWGZEFVimmlL"
      }
    },
    {
      "cell_type": "markdown",
      "source": [
        "**Movies DataFrame**\n",
        "\n",
        "Here we perform a basic analysis of the movies dataframe. We begin this analysis by generating the head of the dataframe below:"
      ],
      "metadata": {
        "id": "oaNgN0OhmmlM"
      }
    },
    {
      "cell_type": "code",
      "source": [
        "# Display top 5 rows of dataframe\n",
        "df_movies.head()"
      ],
      "metadata": {
        "execution": {
          "iopub.status.busy": "2023-01-28T17:32:11.796648Z",
          "iopub.execute_input": "2023-01-28T17:32:11.797020Z",
          "iopub.status.idle": "2023-01-28T17:32:11.807142Z",
          "shell.execute_reply.started": "2023-01-28T17:32:11.796989Z",
          "shell.execute_reply": "2023-01-28T17:32:11.806402Z"
        },
        "trusted": true,
        "id": "kyaVkEhcmmlM"
      },
      "execution_count": null,
      "outputs": []
    },
    {
      "cell_type": "code",
      "source": [
        "# Gather information about the dataframe\n",
        "df_movies.info()"
      ],
      "metadata": {
        "execution": {
          "iopub.status.busy": "2023-01-28T17:32:41.878868Z",
          "iopub.execute_input": "2023-01-28T17:32:41.879235Z",
          "iopub.status.idle": "2023-01-28T17:32:41.896232Z",
          "shell.execute_reply.started": "2023-01-28T17:32:41.879205Z",
          "shell.execute_reply": "2023-01-28T17:32:41.895277Z"
        },
        "trusted": true,
        "id": "jIFLQN4NmmlM"
      },
      "execution_count": null,
      "outputs": []
    },
    {
      "cell_type": "markdown",
      "source": [
        "Let's examine the number of unique values in the dataset:"
      ],
      "metadata": {
        "id": "p0ITk_COmmlM"
      }
    },
    {
      "cell_type": "code",
      "source": [
        "# Information regarding number of unique values in each column:\n",
        "print(\n",
        "    \"Total number of unique movie IDs: \\t{}\\n\"\n",
        "    \"Total number of unique movie titles: \\t{}\\n\"\n",
        "    \"Total number of unique movie genres: \\t{}\\n\".format(\n",
        "        df_movies[\"movieId\"].nunique(),\n",
        "        df_movies[\"title\"].nunique(),\n",
        "        df_movies[\"genres\"].nunique(),\n",
        "    )\n",
        ")\n",
        "print(\n",
        "    \"There are {} movies with the same name.\".format(\n",
        "        df_movies[\"movieId\"].nunique() - df_movies[\"title\"].nunique()\n",
        "    )\n",
        ")"
      ],
      "metadata": {
        "execution": {
          "iopub.status.busy": "2023-01-28T17:35:30.294781Z",
          "iopub.execute_input": "2023-01-28T17:35:30.295136Z",
          "iopub.status.idle": "2023-01-28T17:35:30.347019Z",
          "shell.execute_reply.started": "2023-01-28T17:35:30.295107Z",
          "shell.execute_reply": "2023-01-28T17:35:30.345840Z"
        },
        "trusted": true,
        "id": "4uNNt7uWmmlM"
      },
      "execution_count": null,
      "outputs": []
    },
    {
      "cell_type": "markdown",
      "source": [
        "There are fewer unique movie titles than unique IDs. We know that the difference between these two numbers is equal to the number of movies with the exact same name, which we see is 98. We will keep this in mind while building the recommender system.\n",
        "\n",
        "We explore the genres column, first by finding the top 20 and lowest 20 genres by volume:"
      ],
      "metadata": {
        "id": "cqm7iD1SmmlN"
      }
    },
    {
      "cell_type": "code",
      "source": [
        "# Top 20 genres by volume:\n",
        "df_genres = df_movies[\"genres\"].value_counts()\n",
        "df_genres.head(10)"
      ],
      "metadata": {
        "execution": {
          "iopub.status.busy": "2023-01-28T17:43:37.326887Z",
          "iopub.execute_input": "2023-01-28T17:43:37.327234Z",
          "iopub.status.idle": "2023-01-28T17:43:37.338647Z",
          "shell.execute_reply.started": "2023-01-28T17:43:37.327204Z",
          "shell.execute_reply": "2023-01-28T17:43:37.337489Z"
        },
        "trusted": true,
        "id": "l0DluKjfmmlN"
      },
      "execution_count": null,
      "outputs": []
    },
    {
      "cell_type": "code",
      "source": [
        "# Bottom 20 genres by volume:\n",
        "df_genres = df_movies[\"genres\"].value_counts()\n",
        "df_genres.tail(20)"
      ],
      "metadata": {
        "execution": {
          "iopub.status.busy": "2023-01-28T17:49:39.739756Z",
          "iopub.execute_input": "2023-01-28T17:49:39.740457Z",
          "iopub.status.idle": "2023-01-28T17:49:39.750997Z",
          "shell.execute_reply.started": "2023-01-28T17:49:39.740422Z",
          "shell.execute_reply": "2023-01-28T17:49:39.749947Z"
        },
        "trusted": true,
        "id": "brn-tHUImmlN"
      },
      "execution_count": null,
      "outputs": []
    },
    {
      "cell_type": "markdown",
      "source": [
        "We can see that the top genres by volume only have one or two genre types, whereas the bottom genres consist of multiple genres\n",
        "\n",
        "**Summary of the basic analysis of the Movies DataFrame**\n",
        "\n",
        "The movies dataframe contains 62'423 rows and 3 columns (movieId, title and genres). 98 of the rows have duplicate titles. 1'639 unique genres are listed, which includes combination genres. 5062 movies do not have a genre listed and 3 most popular genres are: Drama, Comedy and Documentary.\n",
        "\n",
        "Next we move to the IMBD dataset.\n",
        "\n",
        "**IMDB Data**\n",
        "\n",
        "Here we explore the IMBD data to learn more about the content of the movies and the people who worked on them.\n",
        "\n",
        "We begin by examining the dataframe."
      ],
      "metadata": {
        "id": "O5MlAtnammlO"
      }
    },
    {
      "cell_type": "code",
      "source": [
        "# Display top 5 rows of dataframe\n",
        "df_imdb.head()"
      ],
      "metadata": {
        "execution": {
          "iopub.status.busy": "2023-01-28T18:11:57.390577Z",
          "iopub.execute_input": "2023-01-28T18:11:57.391415Z",
          "iopub.status.idle": "2023-01-28T18:11:57.448373Z",
          "shell.execute_reply.started": "2023-01-28T18:11:57.391383Z",
          "shell.execute_reply": "2023-01-28T18:11:57.447487Z"
        },
        "trusted": true,
        "id": "0bFulMpsmmlO"
      },
      "execution_count": null,
      "outputs": []
    },
    {
      "cell_type": "code",
      "source": [
        "# Gather information about the dataframe\n",
        "df_imdb.info()"
      ],
      "metadata": {
        "execution": {
          "iopub.status.busy": "2023-01-28T18:12:45.341590Z",
          "iopub.execute_input": "2023-01-28T18:12:45.342234Z",
          "iopub.status.idle": "2023-01-28T18:12:45.362760Z",
          "shell.execute_reply.started": "2023-01-28T18:12:45.342193Z",
          "shell.execute_reply": "2023-01-28T18:12:45.361824Z"
        },
        "trusted": true,
        "id": "9knD_y4cmmlO"
      },
      "execution_count": null,
      "outputs": []
    },
    {
      "cell_type": "markdown",
      "source": [
        "Here we see that there are only 27277 movies in this dataframe, which is less than the 48213 movies in the ratings dataframe.\n",
        "\n",
        "Next we check for missing data:"
      ],
      "metadata": {
        "id": "GVKbiLhGmmlO"
      }
    },
    {
      "cell_type": "code",
      "source": [
        "# Find percentage of missing values in each column\n",
        "columns = df_imdb.columns\n",
        "percent_missing_values = df_imdb.isnull().sum() / len(df_imdb.index) * 100\n",
        "df_missing_values = pd.DataFrame(\n",
        "    {\"column_name\": columns, \"percent_missing\": percent_missing_values}\n",
        ")\n",
        "df_missing_values"
      ],
      "metadata": {
        "execution": {
          "iopub.status.busy": "2023-01-28T18:15:28.389891Z",
          "iopub.execute_input": "2023-01-28T18:15:28.390276Z",
          "iopub.status.idle": "2023-01-28T18:15:28.410180Z",
          "shell.execute_reply.started": "2023-01-28T18:15:28.390244Z",
          "shell.execute_reply": "2023-01-28T18:15:28.409260Z"
        },
        "trusted": true,
        "id": "aoB0xBKcmmlP"
      },
      "execution_count": null,
      "outputs": []
    },
    {
      "cell_type": "markdown",
      "source": [
        "Here we see many columns are missing data.\n",
        "\n",
        "Next we examine the number of unique items in each column, keeping in mind that all columns except for the movie ID column is missing data:"
      ],
      "metadata": {
        "id": "sZt0GFL4mmlP"
      }
    },
    {
      "cell_type": "code",
      "source": [
        "# Information regarding number of unique values in certain column:\n",
        "print(\n",
        "    \"Total number of unique movie IDs: \\t{}\\n\"\n",
        "    \"Total number of unique title casts: \\t{}\\n\"\n",
        "    \"Total number of unique directors: \\t{}\\n\"\n",
        "    \"Total number of unique plot keywords: \\t{}\".format(\n",
        "        df_imdb[\"movieId\"].nunique(),\n",
        "        df_imdb[\"title_cast\"].nunique(),\n",
        "        df_imdb[\"director\"].nunique(),\n",
        "        df_imdb[\"plot_keywords\"].nunique(),\n",
        "    )\n",
        ")"
      ],
      "metadata": {
        "execution": {
          "iopub.status.busy": "2023-01-28T18:18:25.335630Z",
          "iopub.execute_input": "2023-01-28T18:18:25.336022Z",
          "iopub.status.idle": "2023-01-28T18:18:25.359565Z",
          "shell.execute_reply.started": "2023-01-28T18:18:25.335993Z",
          "shell.execute_reply": "2023-01-28T18:18:25.358233Z"
        },
        "trusted": true,
        "id": "Becjbe7qmmlP"
      },
      "execution_count": null,
      "outputs": []
    },
    {
      "cell_type": "markdown",
      "source": [
        "Next we check the dataframe for duplicated movies:"
      ],
      "metadata": {
        "id": "A21HaUbFmmlP"
      }
    },
    {
      "cell_type": "code",
      "source": [
        "df_imdb[df_imdb[\"movieId\"].duplicated()]"
      ],
      "metadata": {
        "execution": {
          "iopub.status.busy": "2023-01-28T18:19:47.670869Z",
          "iopub.execute_input": "2023-01-28T18:19:47.671409Z",
          "iopub.status.idle": "2023-01-28T18:19:47.680936Z",
          "shell.execute_reply.started": "2023-01-28T18:19:47.671377Z",
          "shell.execute_reply": "2023-01-28T18:19:47.680272Z"
        },
        "trusted": true,
        "id": "ki-nRKnommlP"
      },
      "execution_count": null,
      "outputs": []
    },
    {
      "cell_type": "markdown",
      "source": [
        "let's examine the most common cast members, directors, and plot keywords by volume in the dataset."
      ],
      "metadata": {
        "id": "3Un1Y1d1mmlQ"
      }
    },
    {
      "cell_type": "code",
      "source": [
        "# Top 5 title cast members by volume:\n",
        "df_cast = df_imdb[\"title_cast\"].value_counts()\n",
        "df_cast.head()"
      ],
      "metadata": {
        "execution": {
          "iopub.status.busy": "2023-01-28T18:22:09.046680Z",
          "iopub.execute_input": "2023-01-28T18:22:09.047040Z",
          "iopub.status.idle": "2023-01-28T18:22:09.062870Z",
          "shell.execute_reply.started": "2023-01-28T18:22:09.047013Z",
          "shell.execute_reply": "2023-01-28T18:22:09.061932Z"
        },
        "trusted": true,
        "id": "UGVcIZ01mmlQ"
      },
      "execution_count": null,
      "outputs": []
    },
    {
      "cell_type": "code",
      "source": [
        "# Top 5 directors by volume:\n",
        "df_directors = df_imdb[\"director\"].value_counts()\n",
        "df_directors.head()"
      ],
      "metadata": {
        "execution": {
          "iopub.status.busy": "2023-01-28T18:23:40.352492Z",
          "iopub.execute_input": "2023-01-28T18:23:40.352904Z",
          "iopub.status.idle": "2023-01-28T18:23:40.367414Z",
          "shell.execute_reply.started": "2023-01-28T18:23:40.352873Z",
          "shell.execute_reply": "2023-01-28T18:23:40.366175Z"
        },
        "trusted": true,
        "id": "0n626juzmmlQ"
      },
      "execution_count": null,
      "outputs": []
    },
    {
      "cell_type": "code",
      "source": [
        "# Top 5 plot keywords by volume:\n",
        "df_keywords = df_imdb[\"plot_keywords\"].value_counts()\n",
        "df_keywords.head()"
      ],
      "metadata": {
        "execution": {
          "iopub.status.busy": "2023-01-28T18:24:49.040525Z",
          "iopub.execute_input": "2023-01-28T18:24:49.040918Z",
          "iopub.status.idle": "2023-01-28T18:24:49.057964Z",
          "shell.execute_reply.started": "2023-01-28T18:24:49.040887Z",
          "shell.execute_reply": "2023-01-28T18:24:49.056556Z"
        },
        "trusted": true,
        "id": "bZJoV2lDmmlQ"
      },
      "execution_count": null,
      "outputs": []
    },
    {
      "cell_type": "markdown",
      "source": [
        "**Summary of the basic analysis of the IMDB DataFrame**\n",
        "\n",
        "The IMDB Dataframe has 27'278 rows and 6 columns (movieId, title_cast, director, runtime, budget and plot_keywords). MovieId is the only column that doesn't have any null values. All the other columns have at least 36% of missing values, with the budget column having the hightest percentage of null values at 71%. No movieId's are duplicated.\n",
        "\n",
        "Luc Besson, Woody Allen and Stephen King are the 3 directors that appear most often in this dataset.\n",
        "\n",
        "The most popular plot keywords are \"documentary\", \"action\", and \"f rated\"."
      ],
      "metadata": {
        "id": "XxCaOWO5mmlR"
      }
    },
    {
      "cell_type": "markdown",
      "source": [
        "**Genome Scores DataFrame**\n",
        "\n",
        "Here we explore the genome scores data. This dataset contains scores that measure the relevance of a tag to a movie."
      ],
      "metadata": {
        "id": "03_4NpIHmmlR"
      }
    },
    {
      "cell_type": "code",
      "source": [
        "# Display top 5 rows of dataframe\n",
        "df_genome_scores.head()"
      ],
      "metadata": {
        "execution": {
          "iopub.status.busy": "2023-01-28T18:28:09.196071Z",
          "iopub.execute_input": "2023-01-28T18:28:09.196436Z",
          "iopub.status.idle": "2023-01-28T18:28:09.205995Z",
          "shell.execute_reply.started": "2023-01-28T18:28:09.196407Z",
          "shell.execute_reply": "2023-01-28T18:28:09.205365Z"
        },
        "trusted": true,
        "id": "ugmL3mTummlR"
      },
      "execution_count": null,
      "outputs": []
    },
    {
      "cell_type": "code",
      "source": [
        "# Gather information about the dataframe\n",
        "df_genome_scores.info()"
      ],
      "metadata": {
        "execution": {
          "iopub.status.busy": "2023-01-28T18:28:39.510565Z",
          "iopub.execute_input": "2023-01-28T18:28:39.511576Z",
          "iopub.status.idle": "2023-01-28T18:28:39.521409Z",
          "shell.execute_reply.started": "2023-01-28T18:28:39.511531Z",
          "shell.execute_reply": "2023-01-28T18:28:39.520415Z"
        },
        "trusted": true,
        "id": "aaxwC5g4mmlR"
      },
      "execution_count": null,
      "outputs": []
    },
    {
      "cell_type": "code",
      "source": [
        "# Information regarding number of unique values in each column:\n",
        "print(\n",
        "    \"Total number of unique movie IDs: \\t\" + str(df_genome_scores[\"movieId\"].nunique())\n",
        ")\n",
        "print(\"Total number of unique tag IDs: \\t\" + str(df_genome_scores[\"tagId\"].nunique()))"
      ],
      "metadata": {
        "execution": {
          "iopub.status.busy": "2023-01-28T18:29:33.033065Z",
          "iopub.execute_input": "2023-01-28T18:29:33.033409Z",
          "iopub.status.idle": "2023-01-28T18:29:33.159504Z",
          "shell.execute_reply.started": "2023-01-28T18:29:33.033382Z",
          "shell.execute_reply": "2023-01-28T18:29:33.158741Z"
        },
        "trusted": true,
        "id": "8LE5p12zmmlR"
      },
      "execution_count": null,
      "outputs": []
    },
    {
      "cell_type": "markdown",
      "source": [
        "**Summary of the basic analysis of the Genome Scores DataFrame**\n",
        "\n",
        "The Genome Scores Dataframe has 15'584'448 rows and 3 columns (movieId, tagId and relevance). There are 13'816 unique movie ids and 1'128 unique tag ids."
      ],
      "metadata": {
        "id": "XdjRFrtKmmlS"
      }
    },
    {
      "cell_type": "markdown",
      "source": [
        "**Genome Tags DataFrame**\n",
        "\n",
        "Here we explore the tag data. These tags are assigned by a user."
      ],
      "metadata": {
        "id": "2m2wLwyTmmlS"
      }
    },
    {
      "cell_type": "code",
      "source": [
        "# Display top 5 rows of dataframe\n",
        "df_genome_tags.head()"
      ],
      "metadata": {
        "execution": {
          "iopub.status.busy": "2023-01-28T18:31:53.075941Z",
          "iopub.execute_input": "2023-01-28T18:31:53.076376Z",
          "iopub.status.idle": "2023-01-28T18:31:53.087074Z",
          "shell.execute_reply.started": "2023-01-28T18:31:53.076341Z",
          "shell.execute_reply": "2023-01-28T18:31:53.085766Z"
        },
        "trusted": true,
        "id": "bsHFvTNOmmlS"
      },
      "execution_count": null,
      "outputs": []
    },
    {
      "cell_type": "code",
      "source": [
        "# Gather information about the dataframe\n",
        "df_genome_tags.info()"
      ],
      "metadata": {
        "execution": {
          "iopub.status.busy": "2023-01-28T18:32:26.565910Z",
          "iopub.execute_input": "2023-01-28T18:32:26.566293Z",
          "iopub.status.idle": "2023-01-28T18:32:26.578648Z",
          "shell.execute_reply.started": "2023-01-28T18:32:26.566252Z",
          "shell.execute_reply": "2023-01-28T18:32:26.577661Z"
        },
        "trusted": true,
        "id": "SymuMcQfmmlS"
      },
      "execution_count": null,
      "outputs": []
    },
    {
      "cell_type": "code",
      "source": [
        "# Information regarding number of unique values in each column:\n",
        "print(\"Total number of unique Tags: \\t\\t\" + str(df_genome_tags[\"tag\"].nunique()))\n",
        "print(\"Total number of unique Tag IDs: \\t\" + str(df_genome_tags[\"tagId\"].nunique()))"
      ],
      "metadata": {
        "execution": {
          "iopub.status.busy": "2023-01-28T18:33:16.349726Z",
          "iopub.execute_input": "2023-01-28T18:33:16.350158Z",
          "iopub.status.idle": "2023-01-28T18:33:16.357043Z",
          "shell.execute_reply.started": "2023-01-28T18:33:16.350116Z",
          "shell.execute_reply": "2023-01-28T18:33:16.356139Z"
        },
        "trusted": true,
        "id": "OlkSBTurmmlS"
      },
      "execution_count": null,
      "outputs": []
    },
    {
      "cell_type": "markdown",
      "source": [
        "**Summary of the basic analysis of the Genome Tags DataFrame**\n",
        "\n",
        "The Genome Tags Dataframe has 1'128 rows and 2 columns (tagId and tag). All values are unique."
      ],
      "metadata": {
        "id": "ykfmSwWcmmlS"
      }
    },
    {
      "cell_type": "markdown",
      "source": [
        "**Links DataFrame**\n",
        "\n",
        "Here we explore the links dataframe. From Kaggle, this data serves as a link between a MovieLens ID and the IMDB and TMDB IDs associated with it"
      ],
      "metadata": {
        "id": "vyn01jAcmmlT"
      }
    },
    {
      "cell_type": "code",
      "source": [
        "# Display top 5 rows of dataframe\n",
        "df_links.head()"
      ],
      "metadata": {
        "execution": {
          "iopub.status.busy": "2023-01-28T18:38:10.944903Z",
          "iopub.execute_input": "2023-01-28T18:38:10.945269Z",
          "iopub.status.idle": "2023-01-28T18:38:10.956042Z",
          "shell.execute_reply.started": "2023-01-28T18:38:10.945240Z",
          "shell.execute_reply": "2023-01-28T18:38:10.954744Z"
        },
        "trusted": true,
        "id": "igmOm9apmmlT"
      },
      "execution_count": null,
      "outputs": []
    },
    {
      "cell_type": "code",
      "source": [
        "# Gather information about the dataframe\n",
        "df_links.info()"
      ],
      "metadata": {
        "execution": {
          "iopub.status.busy": "2023-01-28T18:38:44.185705Z",
          "iopub.execute_input": "2023-01-28T18:38:44.186104Z",
          "iopub.status.idle": "2023-01-28T18:38:44.198905Z",
          "shell.execute_reply.started": "2023-01-28T18:38:44.186073Z",
          "shell.execute_reply": "2023-01-28T18:38:44.197740Z"
        },
        "trusted": true,
        "id": "jGwxFnGdmmlT"
      },
      "execution_count": null,
      "outputs": []
    },
    {
      "cell_type": "code",
      "source": [
        "print(\"Total number of unique Movie Ids: \\t\" + str(df_links[\"movieId\"].nunique()))\n",
        "print(\"Total number of unique IMDB Ids: \\t\" + str(df_links[\"imdbId\"].nunique()))\n",
        "print(\"Total number of unique TMDB Ids: \\t\" + str(df_links[\"tmdbId\"].nunique()))"
      ],
      "metadata": {
        "execution": {
          "iopub.status.busy": "2023-01-28T18:39:48.920571Z",
          "iopub.execute_input": "2023-01-28T18:39:48.920934Z",
          "iopub.status.idle": "2023-01-28T18:39:48.933582Z",
          "shell.execute_reply.started": "2023-01-28T18:39:48.920902Z",
          "shell.execute_reply": "2023-01-28T18:39:48.932126Z"
        },
        "trusted": true,
        "id": "S11bqE1QmmlT"
      },
      "execution_count": null,
      "outputs": []
    },
    {
      "cell_type": "code",
      "source": [
        "df_links.isnull().sum()"
      ],
      "metadata": {
        "execution": {
          "iopub.status.busy": "2023-01-28T18:40:37.242197Z",
          "iopub.execute_input": "2023-01-28T18:40:37.242564Z",
          "iopub.status.idle": "2023-01-28T18:40:37.253872Z",
          "shell.execute_reply.started": "2023-01-28T18:40:37.242535Z",
          "shell.execute_reply": "2023-01-28T18:40:37.252539Z"
        },
        "trusted": true,
        "id": "J2ePOrdmmmlT"
      },
      "execution_count": null,
      "outputs": []
    },
    {
      "cell_type": "code",
      "source": [
        "# Check how many tmdb IDs are duplicated:\n",
        "df_tmdb = df_links[df_links[\"tmdbId\"].duplicated()]\n",
        "tmdb_total = df_tmdb[\"tmdbId\"].value_counts().sum()\n",
        "print(\"Total number of tmdb Ids duplicated: \\t\" + str(tmdb_total))"
      ],
      "metadata": {
        "execution": {
          "iopub.status.busy": "2023-01-28T18:41:45.638446Z",
          "iopub.execute_input": "2023-01-28T18:41:45.639003Z",
          "iopub.status.idle": "2023-01-28T18:41:45.647510Z",
          "shell.execute_reply.started": "2023-01-28T18:41:45.638967Z",
          "shell.execute_reply": "2023-01-28T18:41:45.646480Z"
        },
        "trusted": true,
        "id": "JMZykYQVmmlT"
      },
      "execution_count": null,
      "outputs": []
    },
    {
      "cell_type": "markdown",
      "source": [
        "**Summary of the Links DataFrame**\n",
        "\n",
        "The links dataframe has 62'423 rows and 3 columns (movieId, imdbId and tmdbId). There are 62'423 unique movie and imdb IDs, which correspond with the number of rows in the dataframe. 107 of the tmdbId's are null values and 35 values are also dupclicates."
      ],
      "metadata": {
        "id": "G7lFjTXDmmlU"
      }
    },
    {
      "cell_type": "markdown",
      "source": [
        "**Test and sample submission Data**\n",
        "\n",
        "Here we briefly explore the data provided by Kaggle that users use for submissions."
      ],
      "metadata": {
        "id": "T-jCh6a2mmlU"
      }
    },
    {
      "cell_type": "code",
      "source": [
        "# Display top 5 rows of dataframe\n",
        "df_test.head()"
      ],
      "metadata": {
        "execution": {
          "iopub.status.busy": "2023-01-28T19:41:13.782446Z",
          "iopub.execute_input": "2023-01-28T19:41:13.782854Z",
          "iopub.status.idle": "2023-01-28T19:41:13.803735Z",
          "shell.execute_reply.started": "2023-01-28T19:41:13.782821Z",
          "shell.execute_reply": "2023-01-28T19:41:13.802159Z"
        },
        "trusted": true,
        "id": "mA4Ry_77mmlU"
      },
      "execution_count": null,
      "outputs": []
    },
    {
      "cell_type": "code",
      "source": [
        "# Gather information about the dataframe\n",
        "df_test.info()"
      ],
      "metadata": {
        "execution": {
          "iopub.status.busy": "2023-01-28T19:41:25.461336Z",
          "iopub.execute_input": "2023-01-28T19:41:25.461742Z",
          "iopub.status.idle": "2023-01-28T19:41:25.488919Z",
          "shell.execute_reply.started": "2023-01-28T19:41:25.461714Z",
          "shell.execute_reply": "2023-01-28T19:41:25.487317Z"
        },
        "trusted": true,
        "id": "tE2K5jlQmmlU"
      },
      "execution_count": null,
      "outputs": []
    },
    {
      "cell_type": "code",
      "source": [
        "# Display top 5 rows of dataframe\n",
        "sample_submission.head()"
      ],
      "metadata": {
        "execution": {
          "iopub.status.busy": "2023-01-28T19:41:54.205751Z",
          "iopub.execute_input": "2023-01-28T19:41:54.206151Z",
          "iopub.status.idle": "2023-01-28T19:41:54.219599Z",
          "shell.execute_reply.started": "2023-01-28T19:41:54.206120Z",
          "shell.execute_reply": "2023-01-28T19:41:54.217796Z"
        },
        "trusted": true,
        "id": "c-yawxwgmmlU"
      },
      "execution_count": null,
      "outputs": []
    },
    {
      "cell_type": "code",
      "source": [
        "# Gather information about the dataframe\n",
        "sample_submission.info()"
      ],
      "metadata": {
        "execution": {
          "iopub.status.busy": "2023-01-28T19:42:53.624756Z",
          "iopub.execute_input": "2023-01-28T19:42:53.625148Z",
          "iopub.status.idle": "2023-01-28T19:42:53.636641Z",
          "shell.execute_reply.started": "2023-01-28T19:42:53.625117Z",
          "shell.execute_reply": "2023-01-28T19:42:53.635373Z"
        },
        "trusted": true,
        "id": "Ig0alBLjmmlV"
      },
      "execution_count": null,
      "outputs": []
    },
    {
      "cell_type": "code",
      "source": [
        "sample_submission[sample_submission[\"Id\"].duplicated()]"
      ],
      "metadata": {
        "execution": {
          "iopub.status.busy": "2023-01-28T19:43:22.019455Z",
          "iopub.execute_input": "2023-01-28T19:43:22.019872Z",
          "iopub.status.idle": "2023-01-28T19:43:25.166831Z",
          "shell.execute_reply.started": "2023-01-28T19:43:22.019841Z",
          "shell.execute_reply": "2023-01-28T19:43:25.165275Z"
        },
        "trusted": true,
        "id": "eCqBVT34mmlV"
      },
      "execution_count": null,
      "outputs": []
    },
    {
      "cell_type": "markdown",
      "source": [
        "**Summary of the test and sample submission Data**\n",
        "\n",
        "Both dataframes have 5'000'019 and no IDs are ducplicated."
      ],
      "metadata": {
        "id": "DA9nyNmMmmlV"
      }
    },
    {
      "cell_type": "markdown",
      "source": [
        "# Section 3: Exploratory Data Analysis"
      ],
      "metadata": {
        "id": "UWYa7uiVmmlV"
      }
    },
    {
      "cell_type": "markdown",
      "source": [
        "<a id=\"three\"></a>\n",
        "## 3.1 Exploring user data  \n",
        "<a class=\"anchor\" id=\"1.1\"></a>\n",
        "<a href=#cont>Back to Table of Contents</a>"
      ],
      "metadata": {
        "id": "-V8k2yYpmmlV"
      }
    },
    {
      "cell_type": "markdown",
      "source": [
        "In this section we aim to explore the data specific to the users who contributed ratings.\n",
        "\n",
        "We start this EDA by generating summary statistics for the rating values:"
      ],
      "metadata": {
        "id": "9R0PoMhBmmlV"
      }
    },
    {
      "cell_type": "code",
      "source": [
        "# Generate summary statistics\n",
        "summary_statistics = df_ratings[[\"rating\"]].describe().round(2)\n",
        "summary_statistics"
      ],
      "metadata": {
        "execution": {
          "iopub.status.busy": "2023-01-29T02:29:07.674565Z",
          "iopub.execute_input": "2023-01-29T02:29:07.675094Z",
          "iopub.status.idle": "2023-01-29T02:29:08.446666Z",
          "shell.execute_reply.started": "2023-01-29T02:29:07.675054Z",
          "shell.execute_reply": "2023-01-29T02:29:08.445783Z"
        },
        "trusted": true,
        "id": "ET_3E8CrmmlW"
      },
      "execution_count": null,
      "outputs": []
    },
    {
      "cell_type": "markdown",
      "source": [
        "We see that the average is 3.53, which seems sensible for movie reviews with a maximum score of 5 and a minimum score of 0.5."
      ],
      "metadata": {
        "id": "YR9Q-YHjmmlW"
      }
    },
    {
      "cell_type": "markdown",
      "source": [
        "We find the number of times a user rated a movie"
      ],
      "metadata": {
        "id": "9mg59TR8mmlW"
      }
    },
    {
      "cell_type": "code",
      "source": [
        "# To find the number of times a user rated a movie, we create a data frame with the count by userId\n",
        "df_user = pd.DataFrame(\n",
        "    df_ratings['userId'].value_counts()).reset_index()\n",
        "df_user.rename(columns={'index':'userId','userId':'count'},\n",
        "                  inplace=True)\n",
        "df_user.head()"
      ],
      "metadata": {
        "execution": {
          "iopub.status.busy": "2023-01-29T03:02:16.539157Z",
          "iopub.execute_input": "2023-01-29T03:02:16.540045Z",
          "iopub.status.idle": "2023-01-29T03:02:17.140818Z",
          "shell.execute_reply.started": "2023-01-29T03:02:16.539995Z",
          "shell.execute_reply": "2023-01-29T03:02:17.139574Z"
        },
        "trusted": true,
        "id": "wEHWMOsVmmlW"
      },
      "execution_count": null,
      "outputs": []
    },
    {
      "cell_type": "markdown",
      "source": [
        "We now aggregate user data by user IDs to get the average ratings."
      ],
      "metadata": {
        "id": "ifLnsoStmmlW"
      }
    },
    {
      "cell_type": "code",
      "source": [
        "df_aggregated = (\n",
        "    df_ratings[[\"userId\", \"rating\"]].groupby(\"userId\").agg([\"count\", \"mean\"])\n",
        ")\n",
        "df_aggregated.head(5)"
      ],
      "metadata": {
        "execution": {
          "iopub.status.busy": "2023-01-29T02:32:07.950486Z",
          "iopub.execute_input": "2023-01-29T02:32:07.951011Z",
          "iopub.status.idle": "2023-01-29T02:32:09.210269Z",
          "shell.execute_reply.started": "2023-01-29T02:32:07.950957Z",
          "shell.execute_reply": "2023-01-29T02:32:09.208770Z"
        },
        "trusted": true,
        "id": "3Z75pzs3mmlX"
      },
      "execution_count": null,
      "outputs": []
    },
    {
      "cell_type": "markdown",
      "source": [
        "We now group users in ranges and visualize the results"
      ],
      "metadata": {
        "id": "B5WVJIbMmmlX"
      }
    },
    {
      "cell_type": "code",
      "source": [
        "# Grouping the users within a certain range aided us in determining the common userId's and the new ones.\n",
        "group_one = df_user.loc[(df_user['count'] > 0) & \n",
        "            (df_user['count'] < 50),\n",
        "            'userId'].value_counts().sum()\n",
        "group_two = df_user.loc[(df_user['count'] >= 50) & \n",
        "            (df_user['count'] < 500),\n",
        "            'userId'].value_counts().sum()\n",
        "group_three = df_user.loc[(df_user['count'] >= 500) & \n",
        "            (df_user['count'] < 1000),\n",
        "            'userId'].value_counts().sum()\n",
        "group_four = df_user.loc[(df_user['count'] >= 1000) & \n",
        "            (df_user['count'] < 1500),\n",
        "            'userId'].value_counts().sum()\n",
        "group_five = df_user.loc[(df_user['count'] >= 1500),\n",
        "            'userId'].value_counts().sum()"
      ],
      "metadata": {
        "execution": {
          "iopub.status.busy": "2023-01-29T03:02:29.021826Z",
          "iopub.execute_input": "2023-01-29T03:02:29.022605Z",
          "iopub.status.idle": "2023-01-29T03:02:29.062344Z",
          "shell.execute_reply.started": "2023-01-29T03:02:29.022568Z",
          "shell.execute_reply": "2023-01-29T03:02:29.061051Z"
        },
        "trusted": true,
        "id": "UjP8ehiymmlX"
      },
      "execution_count": null,
      "outputs": []
    },
    {
      "cell_type": "markdown",
      "source": [
        "Visualize the results"
      ],
      "metadata": {
        "id": "1Z9DtkDBmmlX"
      }
    },
    {
      "cell_type": "code",
      "source": [
        "# To give us insight in the spread, we used figures to determine the spread.\n",
        "trial_error = np.array([['group_one', group_one,\n",
        "                         'between 1 and 50'],\n",
        "                        ['group_two', group_two,\n",
        "                         'between 50 and 500'],\n",
        "                        ['group_three', group_three,\n",
        "                         'between 500 and 1000'],\n",
        "                        ['group_four', group_four,\n",
        "                         'between 1000 and 1500'],\n",
        "                        ['group_five', group_five,\n",
        "                         'greater than 1500']])\n",
        "df_trial_error = pd.DataFrame({'group': trial_error[:, 0],\n",
        "                               'userId_grouping': trial_error[:, 1],\n",
        "                               'explanation': trial_error[:, 2]})\n",
        "fig = px.bar(df_trial_error,\n",
        "             x=df_trial_error[\"group\"],\n",
        "             y=df_trial_error[\"userId_grouping\"],\n",
        "             color=df_trial_error[\"group\"],\n",
        "             title='Grouped Rating Distribustion')\n",
        "fig.update_layout(legend=dict(\n",
        "    orientation=\"h\",\n",
        "    yanchor=\"bottom\",\n",
        "    y=1.02,\n",
        "    xanchor=\"right\",\n",
        "    x=1\n",
        "))\n",
        "fig.show()\n",
        "df_trial_error"
      ],
      "metadata": {
        "execution": {
          "iopub.status.busy": "2023-01-29T03:04:59.033122Z",
          "iopub.execute_input": "2023-01-29T03:04:59.033608Z",
          "iopub.status.idle": "2023-01-29T03:04:59.944967Z",
          "shell.execute_reply.started": "2023-01-29T03:04:59.033575Z",
          "shell.execute_reply": "2023-01-29T03:04:59.943731Z"
        },
        "trusted": true,
        "id": "Hbkpe2s9mmlX"
      },
      "execution_count": null,
      "outputs": []
    },
    {
      "cell_type": "markdown",
      "source": [
        "The user Id's are grouped by the rating counts in a grouping range illustrated in the DataFrame above. In the Grouped Rating Distribution bar graph, it is visually displayed that there is unequal distribution. The distribution is skewed to the left, with the majority of the user ids in the rating count range between 1 and 50. At the same time, the last group has only a value count of 61, which is a significant difference from group one with a value count of 110 010."
      ],
      "metadata": {
        "id": "FGR11ztQmmlX"
      }
    },
    {
      "cell_type": "code",
      "source": [
        "def user_ratings_count(df, n):\n",
        "    plt.figure(figsize=(14,7))\n",
        "    data = df['userId'].value_counts().head(n)\n",
        "    ax = sns.barplot(x = data.index, y = data, order= data.index, palette='CMRmap', edgecolor=\"black\")\n",
        "    for p in ax.patches:\n",
        "        ax.text(p.get_x() + p.get_width()/2., p.get_height(), '%d' % int(p.get_height()), fontsize=11, ha='center', va='bottom')\n",
        "    plt.title(f'Top {n} Users by Number of Ratings', fontsize=14)\n",
        "    plt.xlabel('User ID')\n",
        "    plt.ylabel('Number of Ratings')\n",
        "    plt.show()"
      ],
      "metadata": {
        "execution": {
          "iopub.status.busy": "2023-01-29T03:17:08.791284Z",
          "iopub.execute_input": "2023-01-29T03:17:08.791790Z",
          "iopub.status.idle": "2023-01-29T03:17:08.800885Z",
          "shell.execute_reply.started": "2023-01-29T03:17:08.791752Z",
          "shell.execute_reply": "2023-01-29T03:17:08.799727Z"
        },
        "trusted": true,
        "id": "sotR-psHmmlY"
      },
      "execution_count": null,
      "outputs": []
    },
    {
      "cell_type": "code",
      "source": [
        "user_ratings_count(df_ratings,10)"
      ],
      "metadata": {
        "execution": {
          "iopub.status.busy": "2023-01-29T03:17:46.419259Z",
          "iopub.execute_input": "2023-01-29T03:17:46.420435Z",
          "iopub.status.idle": "2023-01-29T03:17:47.259213Z",
          "shell.execute_reply.started": "2023-01-29T03:17:46.420373Z",
          "shell.execute_reply": "2023-01-29T03:17:47.258039Z"
        },
        "trusted": true,
        "id": "qssO7wXjmmlY"
      },
      "execution_count": null,
      "outputs": []
    },
    {
      "cell_type": "markdown",
      "source": [
        "From the graph above we can see there is one outlier with close to thirteen thousand reviews."
      ],
      "metadata": {
        "id": "68n3m7SVmmlY"
      }
    },
    {
      "cell_type": "markdown",
      "source": [
        "Filtering out user 72315 because his/her number of raings is too extreme and he/she is an oulier"
      ],
      "metadata": {
        "id": "GcCQ49tlmmlY"
      }
    },
    {
      "cell_type": "code",
      "source": [
        "user_ratings_count(df_ratings[df_ratings['userId'] !=72315],10)"
      ],
      "metadata": {
        "execution": {
          "iopub.status.busy": "2023-01-29T03:22:30.464014Z",
          "iopub.execute_input": "2023-01-29T03:22:30.464829Z",
          "iopub.status.idle": "2023-01-29T03:22:31.785975Z",
          "shell.execute_reply.started": "2023-01-29T03:22:30.464774Z",
          "shell.execute_reply": "2023-01-29T03:22:31.784771Z"
        },
        "trusted": true,
        "id": "qwRj0E1tmmlY"
      },
      "execution_count": null,
      "outputs": []
    },
    {
      "cell_type": "markdown",
      "source": [
        "<a id=\"three\"></a>\n",
        "## 3.2 Exploring movie genre  \n",
        "<a class=\"anchor\" id=\"1.1\"></a>\n",
        "<a href=#cont>Back to Table of Contents</a>"
      ],
      "metadata": {
        "id": "NmVH5KrsmmlZ"
      }
    },
    {
      "cell_type": "code",
      "source": [
        "genres = pd.DataFrame(df_movies['genres'].\n",
        "                      str.split(\"|\").\n",
        "                      tolist(),\n",
        "                      index=df_movies['movieId']).stack()\n",
        "genres = genres.reset_index([0, 'movieId'])\n",
        "genres.columns = ['movieId', 'Genre']\n",
        "genres.head()"
      ],
      "metadata": {
        "execution": {
          "iopub.status.busy": "2023-01-29T15:24:59.226551Z",
          "iopub.execute_input": "2023-01-29T15:24:59.226977Z",
          "iopub.status.idle": "2023-01-29T15:24:59.383091Z",
          "shell.execute_reply.started": "2023-01-29T15:24:59.226941Z",
          "shell.execute_reply": "2023-01-29T15:24:59.381774Z"
        },
        "trusted": true,
        "id": "qhYrom05mmlZ"
      },
      "execution_count": null,
      "outputs": []
    },
    {
      "cell_type": "code",
      "source": [
        "fig, ax = plt.subplots(figsize=(14, 7))\n",
        "sns.countplot(x='Genre',\n",
        "              data=genres,\n",
        "              palette='CMRmap',\n",
        "              order=genres['Genre'].\n",
        "              value_counts().index)\n",
        "plt.xticks(rotation=90)\n",
        "plt.xlabel('Genre', size=20)\n",
        "plt.ylabel('Count', size=20)\n",
        "plt.title('Distribution of Movie Genres', size=25)\n",
        "plt.show()"
      ],
      "metadata": {
        "execution": {
          "iopub.status.busy": "2023-01-29T15:25:12.425058Z",
          "iopub.execute_input": "2023-01-29T15:25:12.425504Z",
          "iopub.status.idle": "2023-01-29T15:25:12.863429Z",
          "shell.execute_reply.started": "2023-01-29T15:25:12.425467Z",
          "shell.execute_reply": "2023-01-29T15:25:12.862248Z"
        },
        "trusted": true,
        "id": "pqPOF5yfmmlZ"
      },
      "execution_count": null,
      "outputs": []
    },
    {
      "cell_type": "markdown",
      "source": [
        "We can see that the top 3 most popular movie genres include drama, comedy and thriller."
      ],
      "metadata": {
        "id": "80s0ubwtmmlZ"
      }
    },
    {
      "cell_type": "markdown",
      "source": [
        "<a id=\"three\"></a>\n",
        "## 3.3 Exploring movie data  \n",
        "<a class=\"anchor\" id=\"1.1\"></a>\n",
        "<a href=#cont>Back to Table of Contents</a>"
      ],
      "metadata": {
        "id": "jUhxrULUmmlZ"
      }
    },
    {
      "cell_type": "code",
      "source": [
        "# Merging ratings with movies data\n",
        "\n",
        "movies=pd.merge(df_ratings, df_movies,on='movieId',how='inner')\n",
        "movies.head()"
      ],
      "metadata": {
        "execution": {
          "iopub.status.busy": "2023-01-29T15:32:53.134642Z",
          "iopub.execute_input": "2023-01-29T15:32:53.135082Z",
          "iopub.status.idle": "2023-01-29T15:32:55.678903Z",
          "shell.execute_reply.started": "2023-01-29T15:32:53.135049Z",
          "shell.execute_reply": "2023-01-29T15:32:55.677810Z"
        },
        "trusted": true,
        "id": "0uL4icKzmmlZ"
      },
      "execution_count": null,
      "outputs": []
    },
    {
      "cell_type": "code",
      "source": [
        "# Merging movies and imdb data\n",
        "\n",
        "full_movies = pd.merge(movies,df_imdb,on='movieId',how='inner')\n",
        "full_movies.head()"
      ],
      "metadata": {
        "execution": {
          "iopub.status.busy": "2023-01-29T15:34:22.593981Z",
          "iopub.execute_input": "2023-01-29T15:34:22.594389Z",
          "iopub.status.idle": "2023-01-29T15:34:25.937655Z",
          "shell.execute_reply.started": "2023-01-29T15:34:22.594356Z",
          "shell.execute_reply": "2023-01-29T15:34:25.936463Z"
        },
        "trusted": true,
        "id": "Rn6TOoKGmmla"
      },
      "execution_count": null,
      "outputs": []
    },
    {
      "cell_type": "code",
      "source": [
        "def top_n_plot_by_ratings(df,column, n):\n",
        "    plt.figure(figsize=(14,7))\n",
        "    data = df[str(column)].value_counts().head(n)\n",
        "    ax = sns.barplot(x = data.index, y = data, order= data.index, palette='CMRmap', edgecolor=\"black\")\n",
        "    for p in ax.patches:\n",
        "        ax.text(p.get_x() + p.get_width()/2., p.get_height(), '%d' % int(p.get_height()), fontsize=11, ha='center', va='bottom')\n",
        "    plt.title(f'Top {n} {column.title()} by Number of Ratings', fontsize=14)\n",
        "    plt.xlabel(column.title())\n",
        "    plt.ylabel('Number of Ratings')\n",
        "    plt.xticks(rotation=90)\n",
        "    plt.show()"
      ],
      "metadata": {
        "execution": {
          "iopub.status.busy": "2023-01-29T15:35:11.341081Z",
          "iopub.execute_input": "2023-01-29T15:35:11.341503Z",
          "iopub.status.idle": "2023-01-29T15:35:11.350247Z",
          "shell.execute_reply.started": "2023-01-29T15:35:11.341467Z",
          "shell.execute_reply": "2023-01-29T15:35:11.348967Z"
        },
        "trusted": true,
        "id": "X-Frc-Rgmmla"
      },
      "execution_count": null,
      "outputs": []
    },
    {
      "cell_type": "code",
      "source": [
        "# top 15 most rated movies\n",
        "\n",
        "top_n_plot_by_ratings(movies,'title',15)"
      ],
      "metadata": {
        "execution": {
          "iopub.status.busy": "2023-01-29T15:39:00.103537Z",
          "iopub.execute_input": "2023-01-29T15:39:00.103965Z",
          "iopub.status.idle": "2023-01-29T15:39:01.150200Z",
          "shell.execute_reply.started": "2023-01-29T15:39:00.103931Z",
          "shell.execute_reply": "2023-01-29T15:39:01.148721Z"
        },
        "trusted": true,
        "id": "6X-Fxrz5mmla"
      },
      "execution_count": null,
      "outputs": []
    },
    {
      "cell_type": "markdown",
      "source": [
        "In the Top 15 Title by Number of Ratings bar graph, all the movies are prior the year 2001, with 14 of them released in the 19th century.\n",
        "\n",
        "The top three are Shawshank Redemption 1994, Forest Grump 1994 and Pulp Fiction 1994. All three movies fall under the popular drama genre and are American."
      ],
      "metadata": {
        "id": "xRMoqCJSmmla"
      }
    },
    {
      "cell_type": "code",
      "source": [
        "# Wordcloud of movie titles\n",
        "movies_word = df_movies['title'] = df_movies['title'].astype('str')\n",
        "movies_wordcloud = ' '.join(movies_word)\n",
        "title_wordcloud = WordCloud(stopwords = STOPWORDS,\n",
        "                            background_color = 'White',\n",
        "                            height = 1200,\n",
        "                            width = 900).generate(movies_wordcloud)\n",
        "plt.figure(figsize = (14,7), facecolor=None)\n",
        "plt.imshow(title_wordcloud)\n",
        "plt.axis('off')\n",
        "plt.title('Distribution of words from movie titles')\n",
        "plt.tight_layout(pad=0)\n",
        "plt.show()"
      ],
      "metadata": {
        "execution": {
          "iopub.status.busy": "2023-01-29T15:42:32.487207Z",
          "iopub.execute_input": "2023-01-29T15:42:32.487617Z",
          "iopub.status.idle": "2023-01-29T15:42:36.784243Z",
          "shell.execute_reply.started": "2023-01-29T15:42:32.487582Z",
          "shell.execute_reply": "2023-01-29T15:42:36.783229Z"
        },
        "trusted": true,
        "id": "zets6X_tmmla"
      },
      "execution_count": null,
      "outputs": []
    },
    {
      "cell_type": "code",
      "source": [
        "# Show the most rated rating\n",
        "\n",
        "top_n_plot_by_ratings(movies,'rating',10)"
      ],
      "metadata": {
        "execution": {
          "iopub.status.busy": "2023-01-29T15:46:29.514678Z",
          "iopub.execute_input": "2023-01-29T15:46:29.515092Z",
          "iopub.status.idle": "2023-01-29T15:46:29.986236Z",
          "shell.execute_reply.started": "2023-01-29T15:46:29.515061Z",
          "shell.execute_reply": "2023-01-29T15:46:29.984987Z"
        },
        "trusted": true,
        "id": "unpuOW1qmmla"
      },
      "execution_count": null,
      "outputs": []
    },
    {
      "cell_type": "markdown",
      "source": [
        "The most common rating score that is given is 4.0, followed by 3.0. The least common score that is given by usrs is 0.5."
      ],
      "metadata": {
        "id": "c5JuVPh-mmlb"
      }
    },
    {
      "cell_type": "code",
      "source": [
        "# show director's ratings\n",
        "\n",
        "top_n_plot_by_ratings(full_movies,'director',15)"
      ],
      "metadata": {
        "execution": {
          "iopub.status.busy": "2023-01-29T15:48:32.269831Z",
          "iopub.execute_input": "2023-01-29T15:48:32.270226Z",
          "iopub.status.idle": "2023-01-29T15:48:32.966260Z",
          "shell.execute_reply.started": "2023-01-29T15:48:32.270195Z",
          "shell.execute_reply": "2023-01-29T15:48:32.965213Z"
        },
        "trusted": true,
        "id": "eH3LW6aLmmlb"
      },
      "execution_count": null,
      "outputs": []
    },
    {
      "cell_type": "markdown",
      "source": [
        "Quentin Tarantino is the top director of the number of ratings."
      ],
      "metadata": {
        "id": "lZmNnkGOmmlb"
      }
    },
    {
      "cell_type": "code",
      "source": [
        "movieRatingDistGroup = df_ratings['rating'].value_counts().sort_index().reset_index()\n",
        "fig, ax = plt.subplots(figsize=(14,7))\n",
        "sns.barplot(data=movieRatingDistGroup, x='index', y='rating', palette=\"CMRmap\", edgecolor=\"black\", ax=ax)\n",
        "ax.set_xlabel(\"Rating\")\n",
        "ax.set_ylabel('Number of Users')\n",
        "ax.set_yticklabels(['{:,}'.format(int(x)) for x in ax.get_yticks().tolist()])\n",
        "total = float(movieRatingDistGroup['rating'].sum())\n",
        "for p in ax.patches:\n",
        "    height = p.get_height()\n",
        "    ax.text(p.get_x()+p.get_width()/2., height+350, '{0:.2%}'.format(height/total), fontsize=11, ha=\"center\", va='bottom')\n",
        "plt.title('Number of Users Per Rating', fontsize=14)\n",
        "plt.show()"
      ],
      "metadata": {
        "execution": {
          "iopub.status.busy": "2023-01-29T15:51:47.522223Z",
          "iopub.execute_input": "2023-01-29T15:51:47.523085Z",
          "iopub.status.idle": "2023-01-29T15:51:47.968313Z",
          "shell.execute_reply.started": "2023-01-29T15:51:47.523042Z",
          "shell.execute_reply": "2023-01-29T15:51:47.967473Z"
        },
        "trusted": true,
        "id": "irDT50SImmlb"
      },
      "execution_count": null,
      "outputs": []
    },
    {
      "cell_type": "markdown",
      "source": [
        "Most of the users are weighted within the score range of 3.0 - 5.0, with the most users being weighted in the 4.0 score, accounting for 26.53% of the users."
      ],
      "metadata": {
        "id": "S2l1Q3PWmmlb"
      }
    },
    {
      "cell_type": "markdown",
      "source": [
        "<a id=\"three\"></a>\n",
        "## 3.4 Exploring imdb data  \n",
        "<a class=\"anchor\" id=\"1.1\"></a>\n",
        "<a href=#cont>Back to Table of Contents</a>"
      ],
      "metadata": {
        "id": "RrNv2EfNmmlb"
      }
    },
    {
      "cell_type": "code",
      "source": [
        "def count_directors(df, count = 10):\n",
        "    \"\"\"\n",
        "    Function to count the most common dircetors in a DataFrame:\n",
        "    Parameters\n",
        "    ----------\n",
        "        df (DataFrame): input dataframe containing imdb metadata\n",
        "        count (int): filter directors with fewer than count films\n",
        "        \n",
        "    Returns\n",
        "    -------\n",
        "        directors (DataFrame): output DataFrame\n",
        "    Examples\n",
        "    --------\n",
        "        >>> df = pd.DataFrame({'imdbid':[0,1,2,3,4,5], 'director': [A,B,A,C,B]})\n",
        "        >>> count_directors(df, count = 1)\n",
        "            |index|director|count|\n",
        "            |0|A|2|\n",
        "            |1|B|2|\n",
        "            |2|C|1|\n",
        "    \"\"\"\n",
        "    directors = pd.DataFrame(df['director'].value_counts()).reset_index()\n",
        "    directors.columns = ['director', 'count']\n",
        "    # Lets only take directors who have made 10 or more movies otherwise we will have to analyze 11000 directors\n",
        "    directors = directors[directors['count']>=count]\n",
        "    return directors.sort_values('count', ascending = False)"
      ],
      "metadata": {
        "execution": {
          "iopub.status.busy": "2023-01-29T15:54:57.622549Z",
          "iopub.execute_input": "2023-01-29T15:54:57.623561Z",
          "iopub.status.idle": "2023-01-29T15:54:57.630217Z",
          "shell.execute_reply.started": "2023-01-29T15:54:57.623521Z",
          "shell.execute_reply": "2023-01-29T15:54:57.629319Z"
        },
        "trusted": true,
        "id": "-Uv7adEymmlc"
      },
      "execution_count": null,
      "outputs": []
    },
    {
      "cell_type": "code",
      "source": [
        "def feature_count(df, column):\n",
        "    plt.figure(figsize=(14,7))\n",
        "    ax = sns.barplot(x = df[f'{column}'], y= df['count'], palette='brg')\n",
        "    for p in ax.patches:\n",
        "        ax.text(p.get_x() + p.get_width()/2., p.get_height(), '%d' % int(p.get_height()), fontsize=11, ha='center', va='bottom')\n",
        "    plt.title(f'Number of Movies Per {column}', fontsize=14)\n",
        "    plt.xlabel(f'{column}')\n",
        "    plt.ylabel('Count')\n",
        "    plt.xticks(rotation=90)\n",
        "    plt.show()"
      ],
      "metadata": {
        "execution": {
          "iopub.status.busy": "2023-01-29T15:55:29.428689Z",
          "iopub.execute_input": "2023-01-29T15:55:29.429096Z",
          "iopub.status.idle": "2023-01-29T15:55:29.437001Z",
          "shell.execute_reply.started": "2023-01-29T15:55:29.429062Z",
          "shell.execute_reply": "2023-01-29T15:55:29.435807Z"
        },
        "trusted": true,
        "id": "TnSAIrcUmmlc"
      },
      "execution_count": null,
      "outputs": []
    },
    {
      "cell_type": "code",
      "source": [
        "# shows number of movies per director\n",
        "\n",
        "directors = count_directors(df_imdb)\n",
        "feature_count(directors.head(15), 'director')"
      ],
      "metadata": {
        "execution": {
          "iopub.status.busy": "2023-01-29T15:57:41.445415Z",
          "iopub.execute_input": "2023-01-29T15:57:41.446232Z",
          "iopub.status.idle": "2023-01-29T15:57:41.789288Z",
          "shell.execute_reply.started": "2023-01-29T15:57:41.446196Z",
          "shell.execute_reply": "2023-01-29T15:57:41.788142Z"
        },
        "trusted": true,
        "id": "UdDb0SFhmmlc"
      },
      "execution_count": null,
      "outputs": []
    },
    {
      "cell_type": "markdown",
      "source": [
        "In the Number of Movies Per Director bar graph, the leading director has produced the most movies with a count of 28. Luc Besson and Woody Allen are tied with a value count of producing 26 movies and followed by Stephan King with 24. They are the only producers in the dataset with over 20 movie productions."
      ],
      "metadata": {
        "id": "ASQ1gOEimmlc"
      }
    },
    {
      "cell_type": "markdown",
      "source": [
        "<a id=\"three\"></a>\n",
        "## 3.5 Exploring tags  \n",
        "<a class=\"anchor\" id=\"1.1\"></a>\n",
        "<a href=#cont>Back to Table of Contents</a>"
      ],
      "metadata": {
        "id": "rOa_DI1Nmmlc"
      }
    },
    {
      "cell_type": "markdown",
      "source": [
        "First we create a word cloud of tags:"
      ],
      "metadata": {
        "id": "I_CSaNf0mmlc"
      }
    },
    {
      "cell_type": "code",
      "source": [
        "comment_words = ''\n",
        "stopwords = set(STOPWORDS)\n",
        "\n",
        "# iterate through the csv file\n",
        "for val in df_tags['tag']:\n",
        "\n",
        "    # typecaste each val to string\n",
        "    val = str(val)\n",
        "\n",
        "    # split the value\n",
        "    tokens = val.split()\n",
        "\n",
        "    # Converts each token into lowercase\n",
        "    for i in range(len(tokens)):\n",
        "        tokens[i] = tokens[i].lower()\n",
        "\n",
        "    comment_words += \" \".join(tokens)+\" \"\n",
        "  \n",
        "wordcloud = WordCloud(width=1200, height=900,\n",
        "                      colormap='winter',\n",
        "                      background_color='white',\n",
        "                      stopwords=stopwords,collocations=False,\n",
        "                      min_font_size=10).generate(comment_words)\n",
        "\n",
        "# plot the WordCloud image\n",
        "plt.figure(figsize=(14, 7), facecolor=None)\n",
        "plt.imshow(wordcloud)\n",
        "plt.axis(\"off\")\n",
        "plt.title('Distribution of words in the tags data frame by Tags')\n",
        "plt.tight_layout(pad=0)\n",
        "\n",
        "plt.show()"
      ],
      "metadata": {
        "execution": {
          "iopub.status.busy": "2023-01-29T16:02:11.382703Z",
          "iopub.execute_input": "2023-01-29T16:02:11.383125Z",
          "iopub.status.idle": "2023-01-29T16:02:18.557833Z",
          "shell.execute_reply.started": "2023-01-29T16:02:11.383091Z",
          "shell.execute_reply": "2023-01-29T16:02:18.556813Z"
        },
        "trusted": true,
        "id": "K2-POMJ2mmld"
      },
      "execution_count": null,
      "outputs": []
    },
    {
      "cell_type": "markdown",
      "source": [
        "We can see from the word cloud that the most common words in tags were 'Comedy','book','War' and 'Dark'."
      ],
      "metadata": {
        "id": "ChMfg9azmmld"
      }
    },
    {
      "cell_type": "code",
      "source": [
        "# creating a dataframe of genre and count of t\n",
        "\n",
        "value_count = pd.DataFrame(df_tags['tag'].\n",
        "                           value_counts()).reset_index()\n",
        "value_count.rename(columns = {'index': 'genre', 'tag': 'count'},\n",
        "                   inplace = True)"
      ],
      "metadata": {
        "execution": {
          "iopub.status.busy": "2023-01-29T16:06:36.780961Z",
          "iopub.execute_input": "2023-01-29T16:06:36.781842Z",
          "iopub.status.idle": "2023-01-29T16:06:36.969717Z",
          "shell.execute_reply.started": "2023-01-29T16:06:36.781799Z",
          "shell.execute_reply": "2023-01-29T16:06:36.968320Z"
        },
        "trusted": true,
        "id": "H2soynMhmmld"
      },
      "execution_count": null,
      "outputs": []
    },
    {
      "cell_type": "code",
      "source": [
        "value_count.head()"
      ],
      "metadata": {
        "execution": {
          "iopub.status.busy": "2023-01-29T16:07:02.107998Z",
          "iopub.execute_input": "2023-01-29T16:07:02.108374Z",
          "iopub.status.idle": "2023-01-29T16:07:02.119448Z",
          "shell.execute_reply.started": "2023-01-29T16:07:02.108343Z",
          "shell.execute_reply": "2023-01-29T16:07:02.118353Z"
        },
        "trusted": true,
        "id": "StmWgqdemmle"
      },
      "execution_count": null,
      "outputs": []
    },
    {
      "cell_type": "code",
      "source": [
        "genre_count = value_count.head(20)\n",
        "plt.figure(figsize=(14,7))\n",
        "ax = sns.barplot(x = genre_count['genre'], y= genre_count['count'], palette='CMRmap')\n",
        "for p in ax.patches:\n",
        "        ax.text(p.get_x() + p.get_width()/2., p.get_height(), '%d' % int(p.get_height()), fontsize=11, ha='center', va='bottom')\n",
        "plt.title('Number of times a genre tag appears', fontsize=14)\n",
        "plt.xlabel('Genre tag')\n",
        "plt.ylabel('Genre tag Count')\n",
        "plt.xticks(rotation=90)\n",
        "plt.show()"
      ],
      "metadata": {
        "execution": {
          "iopub.status.busy": "2023-01-29T16:10:22.389961Z",
          "iopub.execute_input": "2023-01-29T16:10:22.390368Z",
          "iopub.status.idle": "2023-01-29T16:10:22.840012Z",
          "shell.execute_reply.started": "2023-01-29T16:10:22.390326Z",
          "shell.execute_reply": "2023-01-29T16:10:22.838907Z"
        },
        "trusted": true,
        "id": "xzHTIEXSmmle"
      },
      "execution_count": null,
      "outputs": []
    },
    {
      "cell_type": "markdown",
      "source": [
        "The most popular words in the world cloud include book, comedy, ending, based, dark and sci-fi.\n",
        "The three most popular genres that appear in df_tags('tags') are sci-fi, atmospheric, and action."
      ],
      "metadata": {
        "id": "tifT0N-Ummle"
      }
    },
    {
      "cell_type": "markdown",
      "source": [
        "<a id=\"three\"></a>\n",
        "## 3.6 Publishing years \n",
        "<a class=\"anchor\" id=\"1.1\"></a>\n",
        "<a href=#cont>Back to Table of Contents</a>"
      ],
      "metadata": {
        "id": "Rj_R1Qlnmmle"
      }
    },
    {
      "cell_type": "code",
      "source": [
        "dates = []\n",
        "for title in df_movies['title']:\n",
        "    if title[-1] == \" \":\n",
        "        year = title[-6: -2]\n",
        "        try:\n",
        "            dates.append(int(year))\n",
        "        except:\n",
        "            dates.append(9999)\n",
        "    else:\n",
        "        year = title[-5: -1]\n",
        "        try:\n",
        "            dates.append(int(year))\n",
        "        except:\n",
        "            dates.append(9999)\n",
        "\n",
        "df_movies['Publish Year'] = dates"
      ],
      "metadata": {
        "execution": {
          "iopub.status.busy": "2023-01-29T16:15:44.714143Z",
          "iopub.execute_input": "2023-01-29T16:15:44.714577Z",
          "iopub.status.idle": "2023-01-29T16:15:44.783227Z",
          "shell.execute_reply.started": "2023-01-29T16:15:44.714544Z",
          "shell.execute_reply": "2023-01-29T16:15:44.782177Z"
        },
        "trusted": true,
        "id": "-S9RR8d5mmlf"
      },
      "execution_count": null,
      "outputs": []
    },
    {
      "cell_type": "code",
      "source": [
        "\n",
        "len(df_movies)"
      ],
      "metadata": {
        "execution": {
          "iopub.status.busy": "2023-01-29T16:18:19.273744Z",
          "iopub.execute_input": "2023-01-29T16:18:19.274091Z",
          "iopub.status.idle": "2023-01-29T16:18:19.280691Z",
          "shell.execute_reply.started": "2023-01-29T16:18:19.274062Z",
          "shell.execute_reply": "2023-01-29T16:18:19.279578Z"
        },
        "trusted": true,
        "id": "wi6k-V2Wmmlf"
      },
      "execution_count": null,
      "outputs": []
    },
    {
      "cell_type": "code",
      "source": [
        "len(df_movies[df_movies['Publish Year'] == 9999])"
      ],
      "metadata": {
        "execution": {
          "iopub.status.busy": "2023-01-29T16:19:05.760288Z",
          "iopub.execute_input": "2023-01-29T16:19:05.760680Z",
          "iopub.status.idle": "2023-01-29T16:19:05.770932Z",
          "shell.execute_reply.started": "2023-01-29T16:19:05.760649Z",
          "shell.execute_reply": "2023-01-29T16:19:05.769464Z"
        },
        "trusted": true,
        "id": "WOvaic7Bmmlg"
      },
      "execution_count": null,
      "outputs": []
    },
    {
      "cell_type": "code",
      "source": [
        "df_movies[(df_movies['Publish Year'] > 1888) &\n",
        "          (df_movies['Publish Year'] < 2021)]"
      ],
      "metadata": {
        "execution": {
          "iopub.status.busy": "2023-01-29T16:19:53.045201Z",
          "iopub.execute_input": "2023-01-29T16:19:53.045675Z",
          "iopub.status.idle": "2023-01-29T16:19:53.067241Z",
          "shell.execute_reply.started": "2023-01-29T16:19:53.045639Z",
          "shell.execute_reply": "2023-01-29T16:19:53.066441Z"
        },
        "trusted": true,
        "id": "lAz450Kummlg"
      },
      "execution_count": null,
      "outputs": []
    },
    {
      "cell_type": "code",
      "source": [
        "dataset = pd.DataFrame(df_movies['Publish Year'].\n",
        "                       value_counts()).reset_index()\n",
        "dataset.rename(columns={'index': 'year', 'Publish Year': 'count'},\n",
        "               inplace=True)\n",
        "dataset.head()"
      ],
      "metadata": {
        "execution": {
          "iopub.status.busy": "2023-01-29T16:20:48.268822Z",
          "iopub.execute_input": "2023-01-29T16:20:48.269201Z",
          "iopub.status.idle": "2023-01-29T16:20:48.283340Z",
          "shell.execute_reply.started": "2023-01-29T16:20:48.269171Z",
          "shell.execute_reply": "2023-01-29T16:20:48.282213Z"
        },
        "trusted": true,
        "id": "LmWj2-Ctmmlg"
      },
      "execution_count": null,
      "outputs": []
    },
    {
      "cell_type": "code",
      "source": [
        "year_dataset = dataset[(dataset['year']>1888) & (dataset['year']<2021)].sort_values(by='count',ascending=False).head(50)\n",
        "plt.figure(figsize=(14,7))\n",
        "ax = sns.barplot(x = year_dataset['year'], y= year_dataset['count'], order=year_dataset['year'], palette='CMRmap')\n",
        "#for p in ax.patches:\n",
        "#       ax.text(p.get_x() + p.get_width()/2., p.get_height(), '%d' % int(p.get_height()), fontsize=11, ha='center', va='bottom')\n",
        "plt.title('Number of Movies Released Per year', fontsize=14)\n",
        "plt.xlabel('year')\n",
        "plt.ylabel('Released Movie Count')\n",
        "plt.xticks(rotation=90)\n",
        "plt.show()"
      ],
      "metadata": {
        "execution": {
          "iopub.status.busy": "2023-01-29T16:21:31.088357Z",
          "iopub.execute_input": "2023-01-29T16:21:31.088783Z",
          "iopub.status.idle": "2023-01-29T16:21:31.831291Z",
          "shell.execute_reply.started": "2023-01-29T16:21:31.088749Z",
          "shell.execute_reply": "2023-01-29T16:21:31.830216Z"
        },
        "trusted": true,
        "id": "irJ3zMmammlg"
      },
      "execution_count": null,
      "outputs": []
    },
    {
      "cell_type": "markdown",
      "source": [
        "In the Number of Movies Released Per year graph, we are able to visually see an major increase in movie releases in the 21st century."
      ],
      "metadata": {
        "id": "LmXhKVi7mmlh"
      }
    },
    {
      "cell_type": "markdown",
      "source": [
        "# Section 4: Base Model testing"
      ],
      "metadata": {
        "id": "oOyOKQYQmmlh"
      }
    },
    {
      "cell_type": "code",
      "source": [
        "%load_ext autotime"
      ],
      "metadata": {
        "execution": {
          "iopub.status.busy": "2023-01-29T19:30:50.595154Z",
          "iopub.execute_input": "2023-01-29T19:30:50.595644Z",
          "iopub.status.idle": "2023-01-29T19:30:50.610493Z",
          "shell.execute_reply.started": "2023-01-29T19:30:50.595591Z",
          "shell.execute_reply": "2023-01-29T19:30:50.609174Z"
        },
        "trusted": true,
        "id": "hE0siPrJmmlh"
      },
      "execution_count": null,
      "outputs": []
    },
    {
      "cell_type": "markdown",
      "source": [
        "With the Surprise library, the following algorithms will be used. RMSE is used as the accuracy metric for the predictions:\n",
        "\n",
        "**NormalPredictor**\n",
        "\n",
        "Algorithm predicting a random rating based on the distribution of the training set, which is assumed to be normal.\n",
        "\n",
        "**BaselineOnly**\n",
        "\n",
        "Algorithm predicting the baseline estimate for given user and item.\n",
        "\n",
        "**KNNBasic**\n",
        "\n",
        "A basic collaborative filtering algorithm.\n",
        "\n",
        "**SVD**\n",
        "\n",
        "The famous SVD algorithm, as popularized by Simon Funk during the Netflix Prize.\n",
        "\n",
        "**SVDpp**\n",
        "\n",
        "The SVD++ algorithm, an extension of SVD taking into account implicit ratings.\n",
        "\n",
        "**Nonnegative Matrix Factorization (NMF)**\n",
        "\n",
        "A collaborative filtering algorithm based on Non-negative Matrix Factorization.\n",
        "\n",
        "**SlopeOne**\n",
        "\n",
        "A simple yet accurate collaborative filtering algorithm.\n",
        "\n",
        "**CoClustering**\n",
        "\n",
        "A collaborative filtering algorithm based on co-clustering."
      ],
      "metadata": {
        "id": "Fb988KOsmmli"
      }
    },
    {
      "cell_type": "markdown",
      "source": [
        "<a id=\"three\"></a>\n",
        "## 4.1 Cross-Validation Testing \n",
        "<a class=\"anchor\" id=\"1.1\"></a>\n",
        "<a href=#cont>Back to Table of Contents</a>"
      ],
      "metadata": {
        "id": "5cj3rhe8mmlj"
      }
    },
    {
      "cell_type": "markdown",
      "source": [
        "**Cross-Validation Testing**\n",
        "\n",
        "Here we perform cross-validation testing on five algorithms: SVD, NormalPredictor, BaseLineOnly, SlopeOne and CoClustering."
      ],
      "metadata": {
        "id": "QBu7sxHNmmlj"
      }
    },
    {
      "cell_type": "code",
      "source": [
        "# Select sample size of 500 000 to test base models\n",
        "df_model_testing = df_ratings.sample(n=500000)\n",
        "\n",
        "reader = Reader(rating_scale=(0.5, 5))\n",
        "data = Dataset.load_from_df(df_model_testing[[\"userId\", \"movieId\", \"rating\"]], reader)"
      ],
      "metadata": {
        "execution": {
          "iopub.status.busy": "2023-01-30T09:34:33.204092Z",
          "iopub.execute_input": "2023-01-30T09:34:33.204587Z",
          "iopub.status.idle": "2023-01-30T09:34:34.484563Z",
          "shell.execute_reply.started": "2023-01-30T09:34:33.204547Z",
          "shell.execute_reply": "2023-01-30T09:34:34.483334Z"
        },
        "trusted": true,
        "id": "HX08v0VGmmlj"
      },
      "execution_count": null,
      "outputs": []
    },
    {
      "cell_type": "markdown",
      "source": [
        "We then calculate the RMSEs for the five algorithms and display the scores in a dataframe."
      ],
      "metadata": {
        "id": "nydBy14Fmmlj"
      }
    },
    {
      "cell_type": "code",
      "source": [
        "benchmark = []\n",
        "\n",
        "# Iterate over all algorithms\n",
        "for algorithm in [\n",
        "    SVD(),\n",
        "    NMF(),\n",
        "    NormalPredictor(),\n",
        "    BaselineOnly(),\n",
        "    SlopeOne(),\n",
        "    CoClustering(),\n",
        "]:\n",
        "\n",
        "    # Perform cross validation\n",
        "    results = cross_validate(algorithm, data, cv=5)\n",
        "\n",
        "    # Get results & append algorithm name\n",
        "    tmp = pd.DataFrame.from_dict(results).mean(axis=0)\n",
        "    tmp = tmp.append(\n",
        "        pd.Series([str(algorithm).split(\" \")[0].split(\".\")[-1]], index=[\"Algorithm\"])\n",
        "    )\n",
        "    benchmark.append(tmp)"
      ],
      "metadata": {
        "execution": {
          "iopub.status.busy": "2023-01-29T19:35:10.354318Z",
          "iopub.execute_input": "2023-01-29T19:35:10.354795Z",
          "iopub.status.idle": "2023-01-29T19:47:59.365187Z",
          "shell.execute_reply.started": "2023-01-29T19:35:10.354758Z",
          "shell.execute_reply": "2023-01-29T19:47:59.363948Z"
        },
        "trusted": true,
        "id": "VPxX1XXImmlk"
      },
      "execution_count": null,
      "outputs": []
    },
    {
      "cell_type": "code",
      "source": [
        "# Show summary dataframe\n",
        "summary_results = (\n",
        "    pd.DataFrame(benchmark).set_index(\"Algorithm\").sort_values(\"test_rmse\")\n",
        ")\n",
        "summary_results"
      ],
      "metadata": {
        "execution": {
          "iopub.status.busy": "2023-01-29T19:48:46.254996Z",
          "iopub.execute_input": "2023-01-29T19:48:46.255423Z",
          "iopub.status.idle": "2023-01-29T19:48:46.292869Z",
          "shell.execute_reply.started": "2023-01-29T19:48:46.255390Z",
          "shell.execute_reply": "2023-01-29T19:48:46.291446Z"
        },
        "trusted": true,
        "id": "JUCQUwRWmmlk"
      },
      "execution_count": null,
      "outputs": []
    },
    {
      "cell_type": "markdown",
      "source": [
        "With a dataset of 500 000 rows the BaselineOnly model outperforms the SVD Model. The fit time of the BaselineOnly model is much better than the SVD model. Gridsearch"
      ],
      "metadata": {
        "id": "bui5uVFkmmlk"
      }
    },
    {
      "cell_type": "markdown",
      "source": [
        "Next we perform split testing."
      ],
      "metadata": {
        "id": "fi5y3JX-mmlk"
      }
    },
    {
      "cell_type": "markdown",
      "source": [
        "<a id=\"three\"></a>\n",
        "## 4.2 Train-Test-Split\n",
        "<a class=\"anchor\" id=\"1.1\"></a>\n",
        "<a href=#cont>Back to Table of Contents</a>"
      ],
      "metadata": {
        "id": "hz0SuBY5mmlk"
      }
    },
    {
      "cell_type": "markdown",
      "source": [
        "**Train-Test-Split Testing of Top 2 Models**\n",
        "\n",
        "Here we perform a train-test-split test on the BaselineOnly model and SVD model, the top two perfomers."
      ],
      "metadata": {
        "id": "CZEXVPbHmmlk"
      }
    },
    {
      "cell_type": "code",
      "source": [
        "# Use all rows in Ratings dataframe\n",
        "data_1 = Dataset.load_from_df(df_ratings[[\"userId\", \"movieId\", \"rating\"]], reader)\n",
        "\n",
        "# Test set is made of 25% of the ratings.\n",
        "trainset, testset = train_test_split(data_1, test_size=0.25)"
      ],
      "metadata": {
        "execution": {
          "iopub.status.busy": "2023-01-30T09:37:55.363285Z",
          "iopub.execute_input": "2023-01-30T09:37:55.363767Z",
          "iopub.status.idle": "2023-01-30T09:38:36.085337Z",
          "shell.execute_reply.started": "2023-01-30T09:37:55.363729Z",
          "shell.execute_reply": "2023-01-30T09:38:36.084006Z"
        },
        "trusted": true,
        "id": "QmRn6xOdmmll"
      },
      "execution_count": null,
      "outputs": []
    },
    {
      "cell_type": "markdown",
      "source": [
        "**BaselineOnly Model**\n",
        "\n",
        "Test the BaseLineOnly model."
      ],
      "metadata": {
        "id": "5t_VAjcWmmll"
      }
    },
    {
      "cell_type": "code",
      "source": [
        "BaselineOnly_1 = BaselineOnly()\n",
        "\n",
        "# Train the algorithm on the train set, and predict ratings for the test set\n",
        "BaselineOnly_1.fit(trainset)\n",
        "pred_Baseline = BaselineOnly_1.test(testset)\n",
        "\n",
        "# Then compute RMSE\n",
        "accuracy.rmse(pred_Baseline)"
      ],
      "metadata": {
        "execution": {
          "iopub.status.busy": "2023-01-30T09:38:53.207720Z",
          "iopub.execute_input": "2023-01-30T09:38:53.209075Z",
          "iopub.status.idle": "2023-01-30T09:40:06.285979Z",
          "shell.execute_reply.started": "2023-01-30T09:38:53.209029Z",
          "shell.execute_reply": "2023-01-30T09:40:06.284784Z"
        },
        "trusted": true,
        "id": "z8VonK1zmmlm"
      },
      "execution_count": null,
      "outputs": []
    },
    {
      "cell_type": "markdown",
      "source": [
        "**SVD Model**\n",
        "\n",
        "Test the SVD model."
      ],
      "metadata": {
        "id": "DVVGhxQTmmlm"
      }
    },
    {
      "cell_type": "code",
      "source": [
        "SVD_1 = SVD()\n",
        "\n",
        "# Train the algorithm on the trainset, and predict ratings for the testset\n",
        "SVD_1.fit(trainset)\n",
        "pred_SVD_1 = SVD_1.test(testset)\n",
        "\n",
        "# Then compute RMSE\n",
        "accuracy.rmse(pred_SVD_1)"
      ],
      "metadata": {
        "execution": {
          "iopub.status.busy": "2023-01-30T09:40:28.774707Z",
          "iopub.execute_input": "2023-01-30T09:40:28.775206Z",
          "iopub.status.idle": "2023-01-30T09:50:29.680861Z",
          "shell.execute_reply.started": "2023-01-30T09:40:28.775155Z",
          "shell.execute_reply": "2023-01-30T09:50:29.679789Z"
        },
        "trusted": true,
        "id": "okz1sVK2mmlm"
      },
      "execution_count": null,
      "outputs": []
    },
    {
      "cell_type": "markdown",
      "source": [
        "<a id=\"three\"></a>\n",
        "## 4.3 GridSearch\n",
        "<a class=\"anchor\" id=\"1.1\"></a>\n",
        "<a href=#cont>Back to Table of Contents</a>"
      ],
      "metadata": {
        "id": "yDdFLU12mmln"
      }
    },
    {
      "cell_type": "markdown",
      "source": [
        "**GridSearch**\n",
        "\n",
        "Next we attempt to improve our model's performance by conducting a grid search on both the SVD and BaselineOnly models."
      ],
      "metadata": {
        "id": "_G3pkKXUmmln"
      }
    },
    {
      "cell_type": "markdown",
      "source": [
        "SVD Model"
      ],
      "metadata": {
        "id": "Pp6_i1CWmmln"
      }
    },
    {
      "cell_type": "code",
      "source": [
        "# # API key to run experiment in Comet\n",
        "experiment = Experiment(\n",
        "    api_key=\"RpnzF8DcMSor3mXqAfEQqsXjv\",\n",
        "    project_name=\"unsupervised-learning-predict\",\n",
        "    workspace=\"teamnm3\",\n",
        ")\n",
        "\n",
        "reader = Reader(rating_scale=(0.5, 5))\n",
        "df_model_testing_3 = df_ratings.sample(n=10000)\n",
        "data_3 = Dataset.load_from_df(\n",
        "     df_model_testing_3[[\"userId\", \"movieId\", \"rating\"]], reader\n",
        " )\n",
        "param_grid = {\n",
        "      \"n_factors\": [10, 20, 50, 100, 150, 200],\n",
        "      \"n_epochs\": [15, 20, 25, 50, 75, 100],\n",
        "      \"lr_all\": [0.005, 0.008, 0.001],\n",
        "      \"reg_all\": [0.1, 0.3, 0.5],\n",
        " }\n",
        "\n",
        "gs = GridSearchCV(SVD, param_grid, measures=[\"rmse\", \"mae\"], cv=3)\n",
        "gs.fit(data_3)\n",
        "algo = gs.best_estimator[\"rmse\"]\n",
        "\n",
        "# # best RMSE score\n",
        "print(gs.best_score[\"rmse\"])\n",
        "\n",
        "# # combination of parameters that gave the best RMSE score\n",
        "print(gs.best_params[\"rmse\"])\n",
        "\n",
        "experiment.log_dataset_hash(data_3)\n",
        "experiment.log_parameters({\"model_type\": \"SVD\", \"param_grid\": param_grid})\n",
        "experiment.log_metrics({\"RMSE\": gs.best_score[\"rmse\"]})\n",
        "experiment.end()"
      ],
      "metadata": {
        "execution": {
          "iopub.status.busy": "2023-01-30T09:55:45.323330Z",
          "iopub.execute_input": "2023-01-30T09:55:45.325250Z",
          "iopub.status.idle": "2023-01-30T10:13:19.555423Z",
          "shell.execute_reply.started": "2023-01-30T09:55:45.325169Z",
          "shell.execute_reply": "2023-01-30T10:13:19.554310Z"
        },
        "trusted": true,
        "id": "vW1SCUDZmmln"
      },
      "execution_count": null,
      "outputs": []
    },
    {
      "cell_type": "markdown",
      "source": [
        "**Model Testing with Hyper Parameters Tuned - SVD**\n",
        "\n",
        "Here we use the set of tuned hyperparameters obtained from experiment to train and test our second SVD model."
      ],
      "metadata": {
        "id": "GWN54F2zmmlo"
      }
    },
    {
      "cell_type": "code",
      "source": [
        "# RMSE test whole dataset 1st set of tuned parameters - logged in Comet_ml\n",
        "SVD_2 = SVD(n_factors=200, n_epochs=100, lr_all=0.005, reg_all=0.1, random_state=27)\n",
        "\n",
        "# Train the algorithm on the trainset, and predict ratings for the testset\n",
        "SVD_2.fit(trainset)\n",
        "pred_SVD_2 = SVD_2.test(testset)\n",
        "\n",
        "# Then compute RMSE\n",
        "accuracy.rmse(pred_SVD_2)"
      ],
      "metadata": {
        "execution": {
          "iopub.status.busy": "2023-01-30T05:42:52.332911Z",
          "iopub.status.idle": "2023-01-30T05:42:52.333604Z",
          "shell.execute_reply.started": "2023-01-30T05:42:52.333368Z",
          "shell.execute_reply": "2023-01-30T05:42:52.333393Z"
        },
        "trusted": true,
        "id": "2FnCplfcmmlo"
      },
      "execution_count": null,
      "outputs": []
    },
    {
      "cell_type": "markdown",
      "source": [
        "**BaselineOnly Model¶**\n",
        "\n",
        "We repeat this process for the BaselineOnly model by running another GridSearchCV."
      ],
      "metadata": {
        "id": "e22hEUPJmmlo"
      }
    },
    {
      "cell_type": "code",
      "source": [
        "\n",
        "\n",
        "# API key to run experiment in Comet\n",
        "experiment = Experiment(\n",
        "    api_key=\"RpnzF8DcMSor3mXqAfEQqsXjv\",\n",
        "    project_name=\"unsupervised-learning-predict\",\n",
        "    workspace=\"teamnm3\",\n",
        ")\n",
        "\n",
        "param_grid = {\n",
        "     \"bsl_options\": {\n",
        "         \"method\": [\"sgd\"],\n",
        "         \"learning_rate\": [0.004, 0.006, 0.008, 0.010],  # gamma\n",
        "         \"reg\": [0.015, 0.020, 0.025],  # lambda 1 and 5\n",
        "     }\n",
        " }\n",
        "gs_baseline = GridSearchCV(\n",
        "     BaselineOnly,\n",
        "     param_grid,\n",
        "     measures=[\"rmse\"],\n",
        "     cv=3,\n",
        "     return_train_measures=True,\n",
        "     n_jobs=1,\n",
        " )\n",
        "gs_baseline.fit(data_3)\n",
        "\n",
        "algo_baseline = gs_baseline.best_estimator[\"rmse\"]\n",
        "\n",
        "# # best RMSE score\n",
        "print(gs_baseline.best_score[\"rmse\"])\n",
        "\n",
        "# # combination of parameters that gave the best RMSE score\n",
        "print(gs_baseline.best_params[\"rmse\"])\n",
        "\n",
        "experiment.log_dataset_hash(data_3)\n",
        "experiment.log_parameters({\"model_type\": \"BaselineOnly\", \"param_grid\": param_grid})\n",
        "experiment.log_metrics({\"RMSE\": gs_baseline.best_score[\"rmse\"]})\n",
        "\n",
        "experiment.end()"
      ],
      "metadata": {
        "execution": {
          "iopub.status.busy": "2023-01-30T10:13:57.115524Z",
          "iopub.execute_input": "2023-01-30T10:13:57.116016Z",
          "iopub.status.idle": "2023-01-30T10:14:45.185086Z",
          "shell.execute_reply.started": "2023-01-30T10:13:57.115947Z",
          "shell.execute_reply": "2023-01-30T10:14:45.183737Z"
        },
        "trusted": true,
        "id": "U1juHmGhmmlo"
      },
      "execution_count": null,
      "outputs": []
    },
    {
      "cell_type": "markdown",
      "source": [
        "# Section 5: Model Building"
      ],
      "metadata": {
        "id": "rFC2AQssmmlq"
      }
    },
    {
      "cell_type": "markdown",
      "source": [
        "<a id=\"three\"></a>\n",
        "## 5.1 Fit model to whole dataset\n",
        "<a class=\"anchor\" id=\"1.1\"></a>\n",
        "<a href=#cont>Back to Table of Contents</a>"
      ],
      "metadata": {
        "id": "eyb1X8Mymmlq"
      }
    },
    {
      "cell_type": "markdown",
      "source": [
        "We now switch to training our model on the entire train dataset."
      ],
      "metadata": {
        "id": "12mqJw8Pmmlr"
      }
    },
    {
      "cell_type": "code",
      "source": [
        "# Use all rows in Ratings dataframe\n",
        "data = Dataset.load_from_df(df_ratings[[\"userId\", \"movieId\", \"rating\"]], reader)\n",
        "\n",
        "# Test set is made of 25% of the ratings.\n",
        "trainset, testset = train_test_split(data_4, test_size=0.25)\n",
        "\n",
        "# Final Model Building\n",
        "SVD_model = SVD(random_state=27)\n",
        "trainset = data.build_full_trainset()\n",
        "SVD_model.fit(trainset)"
      ],
      "metadata": {
        "id": "-fpWq685mmlr"
      },
      "execution_count": null,
      "outputs": []
    },
    {
      "cell_type": "markdown",
      "source": [
        "<a id=\"three\"></a>\n",
        "## 5.2 Download CSV for Kaggle Competition\n",
        "<a class=\"anchor\" id=\"1.1\"></a>\n",
        "<a href=#cont>Back to Table of Contents</a>"
      ],
      "metadata": {
        "id": "KEwEER-5mmlr"
      }
    },
    {
      "cell_type": "code",
      "source": [
        "df_test[\"rating\"] = df_test.apply(\n",
        "    lambda x: SVD_model.predict(x[\"userId\"], x[\"movieId\"]).est, axis=1\n",
        ")\n",
        "df_test[\"Id\"] = df_test.apply(lambda x: f\"{x['userId']:.0f}_{x['movieId']:.0f}\", axis=1)\n",
        "submission = test_df[[\"Id\", \"rating\"]]"
      ],
      "metadata": {
        "id": "2oBKx-aPmmlr"
      },
      "execution_count": null,
      "outputs": []
    },
    {
      "cell_type": "code",
      "source": [
        "submission.to_csv(\"SVD_model.csv\", index=False)"
      ],
      "metadata": {
        "id": "mh7Kew9dmmlr"
      },
      "execution_count": null,
      "outputs": []
    },
    {
      "cell_type": "markdown",
      "source": [
        "<a id=\"three\"></a>\n",
        "## 5.3 Pickle model for use in Streamlit\n",
        "<a class=\"anchor\" id=\"1.1\"></a>\n",
        "<a href=#cont>Back to Table of Contents</a>"
      ],
      "metadata": {
        "id": "Wd_CmGhzmmlr"
      }
    },
    {
      "cell_type": "code",
      "source": [
        "# Uncomment to pickle and download the final model\n",
        "# pickle.dump(SVD_model, open(\"./SVD_model.pkl\",'wb'))"
      ],
      "metadata": {
        "id": "R6lZEK35mmls"
      },
      "execution_count": null,
      "outputs": []
    },
    {
      "cell_type": "markdown",
      "source": [
        "# Section 6: Collaborative & Content Based Models"
      ],
      "metadata": {
        "id": "w9iTJk2dmmls"
      }
    },
    {
      "cell_type": "markdown",
      "source": [
        "**Filtration Strategies for Movie Recommendation Systems**\n",
        "\n",
        "Movie recommendation systems use a set of different filtration strategies and algorithms to help users find the most relevant films. The most popular categories of the ML algorithms used for movie recommendations include content-based filtering and collaborative filtering systems.\n",
        "\n",
        "![content-based_vs_collaborative_light.png](attachment:4d15547f-29ec-4040-9af9-5425213778b0.png)"
      ],
      "metadata": {
        "id": "TXsKsafsmmls"
      }
    },
    {
      "cell_type": "markdown",
      "source": [
        "<a id=\"three\"></a>\n",
        "## 6.1 Collaborative Filtering: Approach I\n",
        "<a class=\"anchor\" id=\"1.1\"></a>\n",
        "<a href=#cont>Back to Table of Contents</a>"
      ],
      "metadata": {
        "id": "SNi5qNZSmmls"
      }
    },
    {
      "cell_type": "markdown",
      "source": [
        "— **Collaborative Filtering**\n",
        "\n",
        "As the name suggests, this filtering strategy is based on the combination of the relevant user’s and other users’ behaviors. The system compares and contrasts these behaviors for the most optimal results. It’s a collaboration of the multiple users’ film preferences and behaviors.\n",
        "\n",
        "What’s the mechanism behind this strategy? The core element in this movie recommendation system and the ML algorithm it’s built on is the history of all users in the database. Basically, collaborative filtering is based on the interaction of all users in the system with the items (movies). Thus, every user impacts the final outcome of this ML-based recommendation system, while content-based filtering depends strictly on the data from one user for its modeling.\n",
        "\n",
        "Collaborative filtering algorithms are divided into two categories:\n",
        "\n",
        "- **User-based collaborative filtering**. The idea is to look for similar patterns in movie preferences in the target user and other users in the database.\n",
        "- **Item-based collaborative filtering**. The basic concept here is to look for similar items (movies) that target users rate or interact with.\n",
        "The modern approach to the movie recommendation systems implies a mix of both strategies for the most gradual and explicit results."
      ],
      "metadata": {
        "id": "4fubP1Aymmls"
      }
    },
    {
      "cell_type": "code",
      "source": [
        "# removing years in title\n",
        "df_movies['title'] = df_movies.title.str.replace('(\\(\\d\\d\\d\\d\\))', '')\n",
        "df_movies['title'] = df_movies['title'].apply(lambda x: x.strip())\n",
        "df_movies.head()"
      ],
      "metadata": {
        "execution": {
          "iopub.status.busy": "2023-01-31T17:30:28.945613Z",
          "iopub.execute_input": "2023-01-31T17:30:28.946107Z",
          "iopub.status.idle": "2023-01-31T17:30:29.041047Z",
          "shell.execute_reply.started": "2023-01-31T17:30:28.946067Z",
          "shell.execute_reply": "2023-01-31T17:30:29.039711Z"
        },
        "trusted": true,
        "id": "yt5Iv_jsmmls"
      },
      "execution_count": null,
      "outputs": []
    },
    {
      "cell_type": "markdown",
      "source": [
        "We start this process by filtering the user and movie data by users that rated more than 60 movies."
      ],
      "metadata": {
        "id": "2Xj_9Oi_mmlt"
      }
    },
    {
      "cell_type": "code",
      "source": [
        "# Convert IDs to int. Required for merging\n",
        "df_ratings['movieId'] = df_ratings['movieId'].astype('int')\n",
        "df_movies['movieId'] = df_movies['movieId'].astype('int')\n",
        "\n",
        "# Merge df_rating and df_movies into your main dataframe\n",
        "train_dat = df_ratings.merge(df_movies, on='movieId')"
      ],
      "metadata": {
        "execution": {
          "iopub.status.busy": "2023-01-31T17:30:35.738799Z",
          "iopub.execute_input": "2023-01-31T17:30:35.739217Z",
          "iopub.status.idle": "2023-01-31T17:30:38.209468Z",
          "shell.execute_reply.started": "2023-01-31T17:30:35.739178Z",
          "shell.execute_reply": "2023-01-31T17:30:38.208287Z"
        },
        "trusted": true,
        "id": "126vbz1Fmmlt"
      },
      "execution_count": null,
      "outputs": []
    },
    {
      "cell_type": "code",
      "source": [
        "# getting only the columns will need from merged data\n",
        "df_train = train_dat[['userId','movieId','title','rating']]\n",
        "df_train.head()"
      ],
      "metadata": {
        "execution": {
          "iopub.status.busy": "2023-01-31T17:30:42.857430Z",
          "iopub.execute_input": "2023-01-31T17:30:42.858468Z",
          "iopub.status.idle": "2023-01-31T17:30:43.275572Z",
          "shell.execute_reply.started": "2023-01-31T17:30:42.858428Z",
          "shell.execute_reply": "2023-01-31T17:30:43.274252Z"
        },
        "trusted": true,
        "id": "WieiaGjRmmlt"
      },
      "execution_count": null,
      "outputs": []
    },
    {
      "cell_type": "code",
      "source": [
        "# Convert rating into appropriate data types\n",
        "df_train.rating = df_train.rating.astype(str).astype(float)"
      ],
      "metadata": {
        "execution": {
          "iopub.status.busy": "2023-01-31T17:30:49.985299Z",
          "iopub.execute_input": "2023-01-31T17:30:49.985735Z",
          "iopub.status.idle": "2023-01-31T17:30:55.407802Z",
          "shell.execute_reply.started": "2023-01-31T17:30:49.985696Z",
          "shell.execute_reply": "2023-01-31T17:30:55.406533Z"
        },
        "trusted": true,
        "id": "6kMVL4aPmmlt"
      },
      "execution_count": null,
      "outputs": []
    },
    {
      "cell_type": "code",
      "source": [
        "# show data\n",
        "df_train.head()"
      ],
      "metadata": {
        "execution": {
          "iopub.status.busy": "2023-01-31T17:31:01.110650Z",
          "iopub.execute_input": "2023-01-31T17:31:01.112047Z",
          "iopub.status.idle": "2023-01-31T17:31:01.125158Z",
          "shell.execute_reply.started": "2023-01-31T17:31:01.111986Z",
          "shell.execute_reply": "2023-01-31T17:31:01.123560Z"
        },
        "trusted": true,
        "id": "e1T5h6demmlt"
      },
      "execution_count": null,
      "outputs": []
    },
    {
      "cell_type": "code",
      "source": [
        "# confirm the number of unique users, unique movies, and total ratings, and we will also calculate the average number of ratings provided by users:\n",
        "\n",
        "n_users = df_train.userId.unique().shape[0]\n",
        "n_movies = df_train.movieId.unique().shape[0]\n",
        "n_ratings = len(df_train)\n",
        "avg_ratings_per_user = n_ratings/n_users\n",
        "print('Number of unique users: ', n_users)\n",
        "print('Number of unique movies: ', n_movies)\n",
        "print('Number of total ratings: ', n_ratings)\n",
        "print('Average number of ratings per user: ', avg_ratings_per_user)"
      ],
      "metadata": {
        "execution": {
          "iopub.status.busy": "2023-01-31T17:31:08.396863Z",
          "iopub.execute_input": "2023-01-31T17:31:08.397749Z",
          "iopub.status.idle": "2023-01-31T17:31:08.588698Z",
          "shell.execute_reply.started": "2023-01-31T17:31:08.397690Z",
          "shell.execute_reply": "2023-01-31T17:31:08.587520Z"
        },
        "trusted": true,
        "id": "jOUiiSIjmmlt"
      },
      "execution_count": null,
      "outputs": []
    },
    {
      "cell_type": "code",
      "source": [
        "# To reduce the complexity and size of this dataset, we focus on the top one thousand most rated movies.\n",
        "\n",
        "movieIndex = df_train.groupby(\"movieId\").count().sort_values(by= \\\n",
        "\"rating\",ascending=False)[0:1000].index\n",
        "rating2 = df_train[df_train.movieId.isin(movieIndex)]\n",
        "rating2.count()"
      ],
      "metadata": {
        "execution": {
          "iopub.status.busy": "2023-01-31T17:31:14.090653Z",
          "iopub.execute_input": "2023-01-31T17:31:14.091052Z",
          "iopub.status.idle": "2023-01-31T17:31:15.746895Z",
          "shell.execute_reply.started": "2023-01-31T17:31:14.091019Z",
          "shell.execute_reply": "2023-01-31T17:31:15.745616Z"
        },
        "trusted": true,
        "id": "OJm6OeNkmmlt"
      },
      "execution_count": null,
      "outputs": []
    },
    {
      "cell_type": "code",
      "source": [
        "# We will also take a sample of one thousand users at random and filter the dataset for just these users.\n",
        "\n",
        "userIndex = rating2.groupby(\"userId\").count().sort_values(by= \\\n",
        "\"rating\",ascending=False).sample(n=1000, random_state=2018).index\n",
        "rating3 = rating2[rating2.userId.isin(userIndex)]\n",
        "rating3.count()"
      ],
      "metadata": {
        "execution": {
          "iopub.status.busy": "2023-01-31T17:31:21.177763Z",
          "iopub.execute_input": "2023-01-31T17:31:21.178142Z",
          "iopub.status.idle": "2023-01-31T17:31:22.120944Z",
          "shell.execute_reply.started": "2023-01-31T17:31:21.178110Z",
          "shell.execute_reply": "2023-01-31T17:31:22.119744Z"
        },
        "trusted": true,
        "id": "-g9V47rZmmlu"
      },
      "execution_count": null,
      "outputs": []
    },
    {
      "cell_type": "code",
      "source": [
        "# we also reindex movieID and userID to a range of 1 to 1,000 for our reduced dataset\n",
        "\n",
        "movies = rating3.movieId.unique()\n",
        "movies_df = pd.DataFrame(data=movies,columns=['originalMovieId'])\n",
        "movies_df['newMovieId'] = movies_df.index+1\n",
        "users = rating3.userId.unique()\n",
        "users_df = pd.DataFrame(data=users,columns=['originalUserId'])\n",
        "users_df['newUserId'] = users_df.index+1\n",
        "rating3 = rating3.merge(movies_df,left_on='movieId', \\\n",
        "right_on='originalMovieId')\n",
        "rating3.drop(labels='originalMovieId', axis=1, inplace=True)\n",
        "rating3 = rating3.merge(users_df,left_on='userId', \\\n",
        "right_on='originalUserId')\n",
        "rating3.drop(labels='originalUserId', axis=1, inplace=True)"
      ],
      "metadata": {
        "execution": {
          "iopub.status.busy": "2023-01-31T17:31:34.738954Z",
          "iopub.execute_input": "2023-01-31T17:31:34.739928Z",
          "iopub.status.idle": "2023-01-31T17:31:34.768414Z",
          "shell.execute_reply.started": "2023-01-31T17:31:34.739888Z",
          "shell.execute_reply": "2023-01-31T17:31:34.767539Z"
        },
        "trusted": true,
        "id": "3bXO7zOImmlw"
      },
      "execution_count": null,
      "outputs": []
    },
    {
      "cell_type": "code",
      "source": [
        "# Let’s calculate the number of unique users, unique movies, total ratings, and average number of ratings per user for our reduced dataset.\n",
        "\n",
        "n_users = rating3.userId.unique().shape[0]\n",
        "n_movies = rating3.movieId.unique().shape[0]\n",
        "n_ratings = len(rating3)\n",
        "avg_ratings_per_user = n_ratings/n_users\n",
        "print('Number of unique users: ', n_users)\n",
        "print('Number of unique movies: ', n_movies)\n",
        "print('Number of total ratings: ', n_ratings)\n",
        "print('Average number of ratings per user: ', avg_ratings_per_user)"
      ],
      "metadata": {
        "execution": {
          "iopub.status.busy": "2023-01-31T17:31:42.941337Z",
          "iopub.execute_input": "2023-01-31T17:31:42.942345Z",
          "iopub.status.idle": "2023-01-31T17:31:42.951960Z",
          "shell.execute_reply.started": "2023-01-31T17:31:42.942292Z",
          "shell.execute_reply": "2023-01-31T17:31:42.950771Z"
        },
        "trusted": true,
        "id": "7q1TQMIbmmlw"
      },
      "execution_count": null,
      "outputs": []
    },
    {
      "cell_type": "code",
      "source": [
        "rating3.head()"
      ],
      "metadata": {
        "execution": {
          "iopub.status.busy": "2023-01-31T17:31:48.482521Z",
          "iopub.execute_input": "2023-01-31T17:31:48.483116Z",
          "iopub.status.idle": "2023-01-31T17:31:48.494687Z",
          "shell.execute_reply.started": "2023-01-31T17:31:48.483081Z",
          "shell.execute_reply": "2023-01-31T17:31:48.493784Z"
        },
        "trusted": true,
        "id": "xtrrUJtAmmlw"
      },
      "execution_count": null,
      "outputs": []
    },
    {
      "cell_type": "code",
      "source": [
        "# we construct our utility matrix easily by using the pivot_table function\n",
        "\n",
        "util_matrix = rating3.pivot_table(index=['newUserId'], \n",
        "                                       columns=['title'],\n",
        "                                       values='rating') \n",
        "util_matrix.shape"
      ],
      "metadata": {
        "execution": {
          "iopub.status.busy": "2023-01-31T17:31:53.920384Z",
          "iopub.execute_input": "2023-01-31T17:31:53.920792Z",
          "iopub.status.idle": "2023-01-31T17:31:53.984782Z",
          "shell.execute_reply.started": "2023-01-31T17:31:53.920759Z",
          "shell.execute_reply": "2023-01-31T17:31:53.983301Z"
        },
        "trusted": true,
        "id": "ce1iTsmxmmlw"
      },
      "execution_count": null,
      "outputs": []
    },
    {
      "cell_type": "code",
      "source": [
        "# Create a neat version of the utility matrix to assist with plotting book titles \n",
        "rating3['neat_title'] = rating3['title'].apply(lambda x: x[:20])\n",
        "util_matrix_neat = rating3.pivot_table(index=['newUserId'], \n",
        "                                            columns=['neat_title'],\n",
        "                                            values='rating')\n",
        "\n",
        "fig, ax = plt.subplots(figsize=(15,5))\n",
        "# We select only the first 100 users for ease of computation and visualisation. \n",
        "# You can play around with this value to see more of the utility matrix. \n",
        "_ = sns.heatmap(util_matrix_neat[:100], annot=False, ax=ax).set_title('Movies Utility Matrix')"
      ],
      "metadata": {
        "execution": {
          "iopub.status.busy": "2023-01-31T17:31:59.549120Z",
          "iopub.execute_input": "2023-01-31T17:31:59.549700Z",
          "iopub.status.idle": "2023-01-31T17:32:01.564059Z",
          "shell.execute_reply.started": "2023-01-31T17:31:59.549662Z",
          "shell.execute_reply": "2023-01-31T17:32:01.562910Z"
        },
        "trusted": true,
        "id": "Ge0Zj8ECmmlx"
      },
      "execution_count": null,
      "outputs": []
    },
    {
      "cell_type": "code",
      "source": [
        "# Normalize each row (a given user's ratings) of the utility matrix\n",
        "util_matrix_norm = util_matrix.apply(lambda x: (x-np.mean(x))/(np.max(x)-np.min(x)), axis=1)\n",
        "# Fill Nan values with 0's, transpose matrix, and drop users with no ratings\n",
        "util_matrix_norm.fillna(0, inplace=True)\n",
        "util_matrix_norm = util_matrix_norm.T\n",
        "util_matrix_norm = util_matrix_norm.loc[:, (util_matrix_norm != 0).any(axis=0)]\n",
        "# Save the utility matrix in scipy's sparse matrix format\n",
        "util_matrix_sparse = sp.sparse.csr_matrix(util_matrix_norm.values)"
      ],
      "metadata": {
        "execution": {
          "iopub.status.busy": "2023-01-31T17:32:24.223057Z",
          "iopub.execute_input": "2023-01-31T17:32:24.224214Z",
          "iopub.status.idle": "2023-01-31T17:32:24.929571Z",
          "shell.execute_reply.started": "2023-01-31T17:32:24.224168Z",
          "shell.execute_reply": "2023-01-31T17:32:24.928220Z"
        },
        "trusted": true,
        "id": "ON9sbf6Wmmlx"
      },
      "execution_count": null,
      "outputs": []
    },
    {
      "cell_type": "code",
      "source": [
        "# Compute the similarity matrix using the cosine similarity metric\n",
        "user_similarity = cosine_similarity(util_matrix_sparse.T)\n",
        "# Save the matrix as a dataframe to allow for easier indexing  \n",
        "user_sim_df = pd.DataFrame(user_similarity, \n",
        "                           index = util_matrix_norm.columns, \n",
        "                           columns = util_matrix_norm.columns)\n",
        "\n",
        "# Review a small portion of the constructed similartiy matrix  \n",
        "user_sim_df[:5]"
      ],
      "metadata": {
        "execution": {
          "iopub.status.busy": "2023-01-31T17:32:30.835943Z",
          "iopub.execute_input": "2023-01-31T17:32:30.836386Z",
          "iopub.status.idle": "2023-01-31T17:32:30.894196Z",
          "shell.execute_reply.started": "2023-01-31T17:32:30.836348Z",
          "shell.execute_reply": "2023-01-31T17:32:30.893044Z"
        },
        "trusted": true,
        "id": "MXfagNKRmmlx"
      },
      "execution_count": null,
      "outputs": []
    },
    {
      "cell_type": "code",
      "source": [
        "def collab_generate_top_N_recommendations(user, N=10, k=20):\n",
        "    # Cold-start problem - no ratings given by the reference user. \n",
        "    # With no further user data, we solve this by simply recommending\n",
        "    # the top-N most popular books in the item catalog. \n",
        "    if user not in user_sim_df.columns:\n",
        "        return rating3.groupby('title').mean().sort_values(by='rating',\n",
        "                                        ascending=False).index[:N].to_list()\n",
        "    \n",
        "    # Gather the k users which are most similar to the reference user \n",
        "    sim_users = user_sim_df.sort_values(by=user, ascending=False).index[1:k+1]\n",
        "    favorite_user_items = [] # <-- List of highest rated items gathered from the k users  \n",
        "    most_common_favorites = {} # <-- Dictionary of highest rated items in common for the k users\n",
        "    \n",
        "    for i in sim_users:\n",
        "        # Maximum rating given by the current user to an item \n",
        "        max_score = util_matrix_norm.loc[:, i].max()\n",
        "        # Save the names of items maximally rated by the current user   \n",
        "        favorite_user_items.append(util_matrix_norm[util_matrix_norm.loc[:, i]==max_score].index.tolist())\n",
        "        \n",
        "    # Loop over each user's favorite items and tally which ones are \n",
        "    # most popular overall.\n",
        "    for item_collection in range(len(favorite_user_items)):\n",
        "        for item in favorite_user_items[item_collection]: \n",
        "            if item in most_common_favorites:\n",
        "                most_common_favorites[item] += 1\n",
        "            else:\n",
        "                most_common_favorites[item] = 1\n",
        "    # Sort the overall most popular items and return the top-N instances\n",
        "    sorted_list = sorted(most_common_favorites.items(), key=operator.itemgetter(1), reverse=True)[:N]\n",
        "    top_N = [x[0] for x in sorted_list]\n",
        "    return top_N"
      ],
      "metadata": {
        "execution": {
          "iopub.status.busy": "2023-01-31T17:32:36.064305Z",
          "iopub.execute_input": "2023-01-31T17:32:36.064742Z",
          "iopub.status.idle": "2023-01-31T17:32:36.077027Z",
          "shell.execute_reply.started": "2023-01-31T17:32:36.064704Z",
          "shell.execute_reply": "2023-01-31T17:32:36.075447Z"
        },
        "trusted": true,
        "id": "mffIpl-Emmlx"
      },
      "execution_count": null,
      "outputs": []
    },
    {
      "cell_type": "code",
      "source": [
        "# Our recommended list for user 41\n",
        "collab_generate_top_N_recommendations(41)"
      ],
      "metadata": {
        "execution": {
          "iopub.status.busy": "2023-01-31T17:32:42.814880Z",
          "iopub.execute_input": "2023-01-31T17:32:42.815284Z",
          "iopub.status.idle": "2023-01-31T17:32:42.839528Z",
          "shell.execute_reply.started": "2023-01-31T17:32:42.815252Z",
          "shell.execute_reply": "2023-01-31T17:32:42.838263Z"
        },
        "trusted": true,
        "id": "8KAJYsD_mmly"
      },
      "execution_count": null,
      "outputs": []
    },
    {
      "cell_type": "code",
      "source": [
        "# User 41's historical ratings. only 10 shown\n",
        "rating3[rating3['newUserId'] == 41][:][['title','rating']].sort_values(by='rating', ascending=False)[:10]"
      ],
      "metadata": {
        "execution": {
          "iopub.status.busy": "2023-01-31T17:32:58.130723Z",
          "iopub.execute_input": "2023-01-31T17:32:58.131108Z",
          "iopub.status.idle": "2023-01-31T17:32:58.148124Z",
          "shell.execute_reply.started": "2023-01-31T17:32:58.131076Z",
          "shell.execute_reply": "2023-01-31T17:32:58.147155Z"
        },
        "trusted": true,
        "id": "AVWapE7Mmmly"
      },
      "execution_count": null,
      "outputs": []
    },
    {
      "cell_type": "code",
      "source": [
        "def collab_generate_rating_estimate(movie_title, user, k=20, threshold=0.0):\n",
        "    # Gather the k users which are most similar to the reference user \n",
        "    sim_users = user_sim_df.sort_values(by=user, ascending=False).index[1:k+1]\n",
        "    # Store the corresponding user's similarity values \n",
        "    user_values = user_sim_df.sort_values(by=user, ascending=False).loc[:,user].tolist()[1:k+1]\n",
        "    rating_list = [] # <-- List of k user's ratings for the reference item\n",
        "    weight_list = [] # <-- List of k user's similarities to the reference user\n",
        "    \n",
        "    # Create a weighted sum for each of the k users who have rated the \n",
        "    # reference item (book).\n",
        "    for sim_idx, user_id in enumerate(sim_users):\n",
        "        # User's rating of the item\n",
        "        rating = util_matrix.loc[user_id, movie_title]\n",
        "        # User's similarity to the reference user \n",
        "        similarity = user_values[sim_idx]\n",
        "        # Skip the user if they have not rated the item, or are too dissimilar to \n",
        "        # the reference user\n",
        "        if (np.isnan(rating)) or (similarity < threshold):\n",
        "            continue\n",
        "        elif not np.isnan(rating):\n",
        "            rating_list.append(rating*similarity)\n",
        "            weight_list.append(similarity)\n",
        "    try:\n",
        "        # Return the weighted sum as the predicted rating for the reference item\n",
        "        predicted_rating = sum(rating_list)/sum(weight_list) \n",
        "    except ZeroDivisionError:\n",
        "        # If no ratings for the reference item can be collected, return the average \n",
        "        # rating given by all users for the item.  \n",
        "        predicted_rating = np.mean(util_matrix[movie_title])\n",
        "    return predicted_rating"
      ],
      "metadata": {
        "execution": {
          "iopub.status.busy": "2023-01-31T17:33:04.664510Z",
          "iopub.execute_input": "2023-01-31T17:33:04.665368Z",
          "iopub.status.idle": "2023-01-31T17:33:04.676419Z",
          "shell.execute_reply.started": "2023-01-31T17:33:04.665287Z",
          "shell.execute_reply": "2023-01-31T17:33:04.675352Z"
        },
        "trusted": true,
        "id": "_HWexMsTmmly"
      },
      "execution_count": null,
      "outputs": []
    },
    {
      "cell_type": "code",
      "source": [
        "# Once again we can use our newly formed function to generate rating predictions for user 41\n",
        "# pick a movie title 'Heat'\n",
        "title = \"Heat\"\n",
        "actual_rating = rating3[(rating3['newUserId'] == 41) & (rating3['title'] == title)]['rating'].values[0]\n",
        "pred_rating = collab_generate_rating_estimate(movie_title = title, user = 41)\n",
        "print (f\"Title - {title}\")\n",
        "print (\"---\")\n",
        "print (f\"Actual rating: \\t\\t {actual_rating}\")\n",
        "print (f\"Predicted rating: \\t {pred_rating}\")"
      ],
      "metadata": {
        "execution": {
          "iopub.status.busy": "2023-01-31T17:33:13.088225Z",
          "iopub.execute_input": "2023-01-31T17:33:13.089503Z",
          "iopub.status.idle": "2023-01-31T17:33:13.108115Z",
          "shell.execute_reply.started": "2023-01-31T17:33:13.089443Z",
          "shell.execute_reply": "2023-01-31T17:33:13.106705Z"
        },
        "trusted": true,
        "id": "cMw61NSUmmly"
      },
      "execution_count": null,
      "outputs": []
    },
    {
      "cell_type": "code",
      "source": [
        "# we picked a movie title \"Goodfellas\"  and compared ratings\n",
        "\n",
        "title = \"Goodfellas\"\n",
        "actual_rating = rating3[(rating3['newUserId'] == 41) & (rating3['title'] == title)]['rating'].values[0]\n",
        "pred_rating = collab_generate_rating_estimate(movie_title = title, user = 41)\n",
        "print (f\"Title - {title}\")\n",
        "print (\"---\")\n",
        "print (f\"Actual rating: \\t\\t {actual_rating}\")\n",
        "print (f\"Predicted rating: \\t {pred_rating}\")"
      ],
      "metadata": {
        "execution": {
          "iopub.status.busy": "2023-01-31T17:34:11.089599Z",
          "iopub.execute_input": "2023-01-31T17:34:11.090018Z",
          "iopub.status.idle": "2023-01-31T17:34:11.109083Z",
          "shell.execute_reply.started": "2023-01-31T17:34:11.089979Z",
          "shell.execute_reply": "2023-01-31T17:34:11.107827Z"
        },
        "trusted": true,
        "id": "KqzRaq72mmly"
      },
      "execution_count": null,
      "outputs": []
    },
    {
      "cell_type": "code",
      "source": [
        "# we picked a movie titled \"Reservoir Dogs\"  and compared ratings\n",
        "\n",
        "title = \"Reservoir Dogs\"\n",
        "actual_rating = rating3[(rating3['newUserId'] == 41) & (rating3['title'] == title)]['rating'].values[0]\n",
        "pred_rating = collab_generate_rating_estimate(movie_title = title, user = 41)\n",
        "print (f\"Title - {title}\")\n",
        "print (\"---\")\n",
        "print (f\"Actual rating: \\t\\t {actual_rating}\")\n",
        "print (f\"Predicted rating: \\t {pred_rating}\")"
      ],
      "metadata": {
        "execution": {
          "iopub.status.busy": "2023-01-31T17:37:35.346027Z",
          "iopub.execute_input": "2023-01-31T17:37:35.346474Z",
          "iopub.status.idle": "2023-01-31T17:37:35.365994Z",
          "shell.execute_reply.started": "2023-01-31T17:37:35.346437Z",
          "shell.execute_reply": "2023-01-31T17:37:35.364678Z"
        },
        "trusted": true,
        "id": "7YN2mrB_mmly"
      },
      "execution_count": null,
      "outputs": []
    },
    {
      "cell_type": "markdown",
      "source": [
        "<a id=\"three\"></a>\n",
        "## 6.2 Content Based Filtering: Approach II\n",
        "<a class=\"anchor\" id=\"1.1\"></a>\n",
        "<a href=#cont>Back to Table of Contents</a>"
      ],
      "metadata": {
        "id": "EbHe8qhNmmlz"
      }
    },
    {
      "cell_type": "markdown",
      "source": [
        "— **Content-Based Filtering**\n",
        "\n",
        "A filtration strategy for movie recommendation systems, which uses the data provided about the items (movies). This data plays a crucial role here and is extracted from only one user. An ML algorithm used for this strategy recommends motion pictures that are similar to the user’s preferences in the past. Therefore, the similarity in content-based filtering is generated by the data about the past film selections and likes by only one user.\n",
        "\n",
        "How does it work? The recommendation system analyzes the past preferences of the user concerned, and then it uses this information to try to find similar movies. This information is available in the database (e.g., lead actors, director, genre, etc.). After that, the system provides movie recommendations for the user. That said, the core element in content-based filtering is only the data of only one user that is used to make predictions."
      ],
      "metadata": {
        "id": "YD7mHY7mmmlz"
      }
    },
    {
      "cell_type": "markdown",
      "source": [
        "**Join Data Sets**\n",
        "\n",
        "Here we join all the datasets together into one combined dataframe"
      ],
      "metadata": {
        "id": "aI9Wgn72mmlz"
      }
    },
    {
      "cell_type": "code",
      "source": [
        "# Join Ratings and Movies Data Sets\n",
        "df_combined = pd.merge(df_ratings, df_movies, on=\"movieId\", how=\"left\")\n",
        "\n",
        "# Join IMDB Data Set as well\n",
        "df_combined = pd.merge(df_combined, df_imdb, on=\"movieId\", how=\"left\")\n",
        "\n",
        "# Display top 5 rows of new combined dataframe\n",
        "df_combined.head(2)"
      ],
      "metadata": {
        "execution": {
          "iopub.status.busy": "2023-01-31T18:03:12.423189Z",
          "iopub.execute_input": "2023-01-31T18:03:12.423643Z",
          "iopub.status.idle": "2023-01-31T18:03:19.520690Z",
          "shell.execute_reply.started": "2023-01-31T18:03:12.423577Z",
          "shell.execute_reply": "2023-01-31T18:03:19.519171Z"
        },
        "trusted": true,
        "id": "mrsGM1knmmlz"
      },
      "execution_count": null,
      "outputs": []
    },
    {
      "cell_type": "markdown",
      "source": [
        "We start this process by filtering the user and movie data by users that rated more than 60 movies."
      ],
      "metadata": {
        "id": "vRwdIz_9mmlz"
      }
    },
    {
      "cell_type": "code",
      "source": [
        "# Filter ratings with users that rated more than 60 times to be able to pivot \n",
        "# the table\n",
        "filtered_ratings = df_ratings.groupby(\"userId\").filter(lambda x: len(x) >= 60)\n",
        "\n",
        "# List the movie titles after filtering\n",
        "movie_list_rating = filtered_ratings.movieId.unique().tolist()\n",
        "\n",
        "# View shape of filtered ratings\n",
        "print(filtered_ratings.shape)"
      ],
      "metadata": {
        "execution": {
          "iopub.status.busy": "2023-01-31T18:03:25.358879Z",
          "iopub.execute_input": "2023-01-31T18:03:25.359280Z",
          "iopub.status.idle": "2023-01-31T18:03:32.188250Z",
          "shell.execute_reply.started": "2023-01-31T18:03:25.359249Z",
          "shell.execute_reply": "2023-01-31T18:03:32.187053Z"
        },
        "trusted": true,
        "id": "uCqeKC0zmmlz"
      },
      "execution_count": null,
      "outputs": []
    },
    {
      "cell_type": "markdown",
      "source": [
        "Next we examine the percentage prevelance of unique movies in the filtered_ratings dataframe that was created above:"
      ],
      "metadata": {
        "id": "49SqYQCdmml0"
      }
    },
    {
      "cell_type": "code",
      "source": [
        "# Calculate percentage of movies and users in filtered dataframe\n",
        "unique_movies_f = (\n",
        "    len(filtered_ratings.movieId.unique()) / len(df_ratings.movieId.unique()) * 100\n",
        ")\n",
        "unique_users_f = (\n",
        "    len(filtered_ratings.userId.unique()) / len(df_ratings.userId.unique()) * 100\n",
        ")\n",
        "\n",
        "print(\n",
        "    round(unique_movies_f, 2), \"% of original movie titles in the filtered dataframe.\"\n",
        ")\n",
        "print(round(unique_users_f, 2), \"% of original users in the filtered dataframe.\")"
      ],
      "metadata": {
        "execution": {
          "iopub.status.busy": "2023-01-31T18:03:37.326874Z",
          "iopub.execute_input": "2023-01-31T18:03:37.327286Z",
          "iopub.status.idle": "2023-01-31T18:03:37.636030Z",
          "shell.execute_reply.started": "2023-01-31T18:03:37.327246Z",
          "shell.execute_reply": "2023-01-31T18:03:37.634666Z"
        },
        "trusted": true,
        "id": "xSiMn_OGmml0"
      },
      "execution_count": null,
      "outputs": []
    },
    {
      "cell_type": "markdown",
      "source": [
        "Now that we understand the content of this dataframe, we proceed to filter the movies dataframe to exlude items not in the movie_list_rating and process the genres column:"
      ],
      "metadata": {
        "id": "0nipee1emml0"
      }
    },
    {
      "cell_type": "code",
      "source": [
        "# Filter the movies dataframe with the movie titles from the filtered list\n",
        "df_movies = df_movies[df_movies.movieId.isin(movie_list_rating)]"
      ],
      "metadata": {
        "execution": {
          "iopub.status.busy": "2023-01-31T18:03:46.757621Z",
          "iopub.execute_input": "2023-01-31T18:03:46.758055Z",
          "iopub.status.idle": "2023-01-31T18:03:46.777218Z",
          "shell.execute_reply.started": "2023-01-31T18:03:46.758006Z",
          "shell.execute_reply": "2023-01-31T18:03:46.775966Z"
        },
        "trusted": true,
        "id": "ZZeCdpbDmml0"
      },
      "execution_count": null,
      "outputs": []
    },
    {
      "cell_type": "markdown",
      "source": [
        "We then process the genres column to remove the pipe symbol:"
      ],
      "metadata": {
        "id": "Zka9aTynmml1"
      }
    },
    {
      "cell_type": "code",
      "source": [
        "# Replace | in genres with a space and make lowercase to use as metadata later\n",
        "df_movies[\"genres\"] = [item.replace(\"|\", \" \").lower() for item in df_movies[\"genres\"]]\n",
        "df_movies.head()"
      ],
      "metadata": {
        "execution": {
          "iopub.status.busy": "2023-01-31T18:03:55.174753Z",
          "iopub.execute_input": "2023-01-31T18:03:55.175119Z",
          "iopub.status.idle": "2023-01-31T18:03:55.210075Z",
          "shell.execute_reply.started": "2023-01-31T18:03:55.175088Z",
          "shell.execute_reply": "2023-01-31T18:03:55.208889Z"
        },
        "trusted": true,
        "id": "J_thHTf9mml1"
      },
      "execution_count": null,
      "outputs": []
    },
    {
      "cell_type": "markdown",
      "source": [
        "We continue to process this dataframe by dropping the timestamp column and mappign the movie title to its ID."
      ],
      "metadata": {
        "id": "1UZ4_j9Pmml2"
      }
    },
    {
      "cell_type": "code",
      "source": [
        "# Create movie dictionary to map title to id\n",
        "movie_dict = dict(zip(df_movies.title.tolist(), df_movies.movieId.tolist()))\n",
        "\n",
        "# Drop timestamp column from filtered dataframe\n",
        "filtered_ratings.drop([\"timestamp\"], axis=1, inplace=True)\n",
        "filtered_ratings.head()"
      ],
      "metadata": {
        "execution": {
          "iopub.status.busy": "2023-01-31T18:04:10.696143Z",
          "iopub.execute_input": "2023-01-31T18:04:10.696662Z",
          "iopub.status.idle": "2023-01-31T18:04:10.828194Z",
          "shell.execute_reply.started": "2023-01-31T18:04:10.696614Z",
          "shell.execute_reply": "2023-01-31T18:04:10.826843Z"
        },
        "trusted": true,
        "id": "iN-_EqlYmml3"
      },
      "execution_count": null,
      "outputs": []
    },
    {
      "cell_type": "markdown",
      "source": [
        "Next we add tags with a high relevance score (above 0.7)"
      ],
      "metadata": {
        "id": "hhSQPs17mml3"
      }
    },
    {
      "cell_type": "code",
      "source": [
        "# Create combined dataframe with genres, titles and tags with relevance above 0.7\n",
        "combined = pd.merge(df_movies, df_genome_scores, on=\"movieId\", how=\"left\").merge(\n",
        "    df_genome_tags, on=\"tagId\", how=\"left\"\n",
        ")\n",
        "\n",
        "filter_combined = combined[combined[\"relevance\"] > 0.7]\n",
        "filter_combined.drop([\"tagId\", \"relevance\"], axis=1, inplace=True)\n",
        "\n",
        "# Replace NaN with empty string\n",
        "filter_combined.fillna(\"\", inplace=True)\n",
        "filter_combined.head()"
      ],
      "metadata": {
        "execution": {
          "iopub.status.busy": "2023-01-31T18:04:30.270449Z",
          "iopub.execute_input": "2023-01-31T18:04:30.270823Z",
          "iopub.status.idle": "2023-01-31T18:04:39.932619Z",
          "shell.execute_reply.started": "2023-01-31T18:04:30.270791Z",
          "shell.execute_reply": "2023-01-31T18:04:39.931463Z"
        },
        "trusted": true,
        "id": "6Gimj9MLmml4"
      },
      "execution_count": null,
      "outputs": []
    },
    {
      "cell_type": "markdown",
      "source": [
        "we're able to create a new metadata column in the dataframe by concatenating the tag with the genres."
      ],
      "metadata": {
        "id": "9Hg_Ppwtmml4"
      }
    },
    {
      "cell_type": "code",
      "source": [
        "# Create metadata column from movie tags and genres\n",
        "filter_combined = pd.DataFrame(\n",
        "    filter_combined.groupby(\"movieId\")[\"tag\"].apply(lambda x: \" \".join(x))\n",
        ")\n",
        "\n",
        "movies_meta = pd.merge(df_movies, filter_combined, on=\"movieId\", how=\"left\").fillna(\"\")\n",
        "movies_meta[\"metadata\"] = movies_meta[\"tag\"] + \" \" + movies_meta[\"genres\"]\n",
        "\n",
        "movies_meta[[\"movieId\", \"title\", \"metadata\"]].head()"
      ],
      "metadata": {
        "execution": {
          "iopub.status.busy": "2023-01-31T18:45:57.061382Z",
          "iopub.execute_input": "2023-01-31T18:45:57.062661Z",
          "iopub.status.idle": "2023-01-31T18:45:57.362119Z",
          "shell.execute_reply.started": "2023-01-31T18:45:57.062608Z",
          "shell.execute_reply": "2023-01-31T18:45:57.360803Z"
        },
        "trusted": true,
        "id": "hEnPEuM7mml4"
      },
      "execution_count": null,
      "outputs": []
    },
    {
      "cell_type": "code",
      "source": [
        "# Convienient indexes to map between book titles and indexes of \n",
        "# the books dataframe\n",
        "titles = movies_meta['title']\n",
        "indices = pd.Series(movies_meta.index, index=movies_meta['title'])"
      ],
      "metadata": {
        "execution": {
          "iopub.status.busy": "2023-01-30T19:43:06.458652Z",
          "iopub.execute_input": "2023-01-30T19:43:06.459755Z",
          "iopub.status.idle": "2023-01-30T19:43:06.467402Z",
          "shell.execute_reply.started": "2023-01-30T19:43:06.459697Z",
          "shell.execute_reply": "2023-01-30T19:43:06.465580Z"
        },
        "trusted": true,
        "id": "siT-IYslmml4"
      },
      "execution_count": null,
      "outputs": []
    },
    {
      "cell_type": "code",
      "source": [
        "# show indices\n",
        "\n",
        "indices.head()"
      ],
      "metadata": {
        "execution": {
          "iopub.status.busy": "2023-01-30T19:43:13.129081Z",
          "iopub.execute_input": "2023-01-30T19:43:13.130223Z",
          "iopub.status.idle": "2023-01-30T19:43:13.141538Z",
          "shell.execute_reply.started": "2023-01-30T19:43:13.130141Z",
          "shell.execute_reply": "2023-01-30T19:43:13.139920Z"
        },
        "trusted": true,
        "id": "YLihwxUXmml4"
      },
      "execution_count": null,
      "outputs": []
    },
    {
      "cell_type": "markdown",
      "source": [
        "We now convert these textual features into a format which enables us to compute their relative similarities to one another."
      ],
      "metadata": {
        "id": "Oet19Jk8mml4"
      }
    },
    {
      "cell_type": "code",
      "source": [
        "tf = TfidfVectorizer(analyzer='word', ngram_range=(1,2),\n",
        "                     min_df=0, stop_words='english')\n",
        "\n",
        "# Produce a feature matrix, where each row corresponds to a book,\n",
        "# with TF-IDF features as columns \n",
        "tf_authTags_matrix = tf.fit_transform(movies_meta['metadata'])\n",
        "\n",
        "df_tfidf = pd.DataFrame(tf_authTags_matrix.toarray(), index=movies_meta.index.tolist())\n",
        "\n",
        "print(df_tfidf.shape)"
      ],
      "metadata": {
        "execution": {
          "iopub.status.busy": "2023-01-30T19:43:21.386794Z",
          "iopub.execute_input": "2023-01-30T19:43:21.387318Z",
          "iopub.status.idle": "2023-01-30T19:43:24.665385Z",
          "shell.execute_reply.started": "2023-01-30T19:43:21.387273Z",
          "shell.execute_reply": "2023-01-30T19:43:24.663927Z"
        },
        "trusted": true,
        "id": "uJOekVwKmml5"
      },
      "execution_count": null,
      "outputs": []
    },
    {
      "cell_type": "code",
      "source": [
        "# Select top features with Truncated SVD\n",
        "svd = TruncatedSVD(n_components=200)\n",
        "latent_matrix = svd.fit_transform(df_tfidf)\n",
        "\n",
        "# Plot variance expalained to see what dimensions to use\n",
        "explained = svd.explained_variance_ratio_.cumsum()\n",
        "plt.plot(explained, \".-\", ms=10, color=\"blue\")\n",
        "plt.xlabel(\"Singular value components\", fontsize=12)\n",
        "plt.ylabel(\"Cumulative percent of variance\", fontsize=12)\n",
        "plt.show()\n",
        "\n",
        "# Print percentage of variance explained\n",
        "print(\n",
        "    \"200 components explains\",\n",
        "    round(svd.explained_variance_ratio_.sum(), 2) * 100,\n",
        "    \"% of the variance\",\n",
        ")"
      ],
      "metadata": {
        "execution": {
          "iopub.status.busy": "2023-01-30T19:49:09.187747Z",
          "iopub.execute_input": "2023-01-30T19:49:09.188420Z",
          "iopub.status.idle": "2023-01-30T19:52:51.144085Z",
          "shell.execute_reply.started": "2023-01-30T19:49:09.188363Z",
          "shell.execute_reply": "2023-01-30T19:52:51.142395Z"
        },
        "trusted": true,
        "id": "fb6CLT-Fmml5"
      },
      "execution_count": null,
      "outputs": []
    },
    {
      "cell_type": "code",
      "source": [
        "# Number of dimensions to keep\n",
        "n = 200\n",
        "df_latent_matrix_1 = pd.DataFrame(\n",
        "    latent_matrix[:, 0:n], index=movies_meta.title.tolist()\n",
        ")\n",
        "\n",
        "# Content latent matrix shape\n",
        "latent_matrix.shape"
      ],
      "metadata": {
        "execution": {
          "iopub.status.busy": "2023-01-30T19:56:51.718355Z",
          "iopub.execute_input": "2023-01-30T19:56:51.719048Z",
          "iopub.status.idle": "2023-01-30T19:56:51.741716Z",
          "shell.execute_reply.started": "2023-01-30T19:56:51.718988Z",
          "shell.execute_reply": "2023-01-30T19:56:51.740240Z"
        },
        "trusted": true,
        "id": "4p_U7Vu-mml5"
      },
      "execution_count": null,
      "outputs": []
    },
    {
      "cell_type": "markdown",
      "source": [
        "We now can compute the similarity between each vector within our matrix. This is done by making use of the cosine_similarity function provided to us by sklearn."
      ],
      "metadata": {
        "id": "o-yBPp1wmml5"
      }
    },
    {
      "cell_type": "code",
      "source": [
        "cosine_sim_authTags = cosine_similarity(latent_matrix, \n",
        "                                        latent_matrix)\n",
        "print (cosine_sim_authTags.shape)"
      ],
      "metadata": {
        "execution": {
          "iopub.status.busy": "2023-01-30T19:57:26.893798Z",
          "iopub.execute_input": "2023-01-30T19:57:26.894330Z",
          "iopub.status.idle": "2023-01-30T19:57:50.120423Z",
          "shell.execute_reply.started": "2023-01-30T19:57:26.894287Z",
          "shell.execute_reply": "2023-01-30T19:57:50.117465Z"
        },
        "trusted": true,
        "id": "GrAYG1pvmml5"
      },
      "execution_count": null,
      "outputs": []
    },
    {
      "cell_type": "code",
      "source": [
        "cosine_sim_authTags[:5]"
      ],
      "metadata": {
        "execution": {
          "iopub.status.busy": "2023-01-30T19:58:29.015265Z",
          "iopub.execute_input": "2023-01-30T19:58:29.015989Z",
          "iopub.status.idle": "2023-01-30T19:58:29.032078Z",
          "shell.execute_reply.started": "2023-01-30T19:58:29.015934Z",
          "shell.execute_reply": "2023-01-30T19:58:29.031002Z"
        },
        "trusted": true,
        "id": "wFjC6vJlmml5"
      },
      "execution_count": null,
      "outputs": []
    },
    {
      "cell_type": "markdown",
      "source": [
        "### Infinity One\n",
        "Building a model with more Attributes for Streamlit (Infinity One)"
      ],
      "metadata": {
        "id": "8YIZzvK1pcBg"
      }
    },
    {
      "cell_type": "code",
      "source": [
        "# Convert IDs to int. Required for merging\n",
        "# Convert 'movieIds' to int. This is necessary for merging datasets\n",
        "df_movies['movieId'] = df_movies['movieId'].astype('int')\n",
        "df_imdb['movieId'] = df_imdb['movieId'].astype('int')\n",
        "\n",
        "# Merge df_imdb and df_mov into the main items_dataset\n",
        "items_dataset = df_imdb.merge(df_movies, on='movieId')\n",
        "#items_dataset.head(5)"
      ],
      "metadata": {
        "id": "t568hJU0pbEF"
      },
      "execution_count": null,
      "outputs": []
    },
    {
      "cell_type": "code",
      "source": [
        "# extract necessary elements from the columns within the items_dataset\n",
        "# view - title_cast, director, budget, plot_keywords, title, genres\n",
        "# and strip spaces in names to avoid similar names counted equal\n",
        "        \n",
        "elements = ['title_cast', 'plot_keywords', 'genres'] \n",
        "for item in elements:\n",
        "    items_dataset[item] = items_dataset[item].fillna('')\n",
        "    items_dataset[item] = items_dataset[item].str.replace(' ', '')\n",
        "    items_dataset[item] = items_dataset[item].str.replace('|', ' ')\n",
        "    \n",
        "# create a year column from the title column of the dataset\n",
        "items_dataset['year'] = items_dataset.title.str.extract('(\\d+)')\n",
        "items_dataset['year'] = items_dataset['year'].fillna(np.nan)\n",
        "items_dataset['runtime'] = items_dataset['runtime'].fillna(np.nan)\n",
        "\n",
        "# then remove year from title column\n",
        "items_dataset['title'] = items_dataset.title.str.replace('(\\(\\d\\d\\d\\d\\))', '')\n",
        "items_dataset['title'] = items_dataset.title.str.strip()"
      ],
      "metadata": {
        "id": "jf87KPd5rsdj"
      },
      "execution_count": null,
      "outputs": []
    },
    {
      "cell_type": "code",
      "source": [
        "# drop unwanted columns\n",
        "items_dataset = items_dataset.drop(['budget','movieId'], axis=1)"
      ],
      "metadata": {
        "id": "TPGyr4Yxq-EO"
      },
      "execution_count": null,
      "outputs": []
    },
    {
      "cell_type": "code",
      "source": [
        "# clean up the dataset by converting all to lower case \n",
        "# prepared for vectorizer\n",
        "\n",
        "def clean_items(x):\n",
        "    if isinstance(x, str):\n",
        "        res = str.lower(x)\n",
        "        return res \n",
        "    else:\n",
        "        return ''"
      ],
      "metadata": {
        "id": "nIhFxdWbsDQx"
      },
      "execution_count": null,
      "outputs": []
    },
    {
      "cell_type": "code",
      "source": [
        "# apply function to items_dataset columns\n",
        "\n",
        "elements2 = ['title_cast', 'director', 'plot_keywords', 'genres'] \n",
        "for item in elements2:\n",
        "    items_dataset[item] = items_dataset[item].apply(clean_items)"
      ],
      "metadata": {
        "id": "5gHd5yiHsuNT"
      },
      "execution_count": null,
      "outputs": []
    },
    {
      "cell_type": "code",
      "source": [
        "# make columns strings to add to vectorizer output\n",
        "items_dataset['runtime'] = items_dataset['runtime'].apply(lambda x: str(x))\n",
        "items_dataset['year'] = items_dataset['year'].apply(lambda x: str(x))"
      ],
      "metadata": {
        "id": "_ctMhN1Dswrd"
      },
      "execution_count": null,
      "outputs": []
    },
    {
      "cell_type": "code",
      "source": [
        "# elements = ['title_cast', 'director', 'plot_keywords', 'genres'] \n",
        "# from elements, create final preprocessing of items_pool, \n",
        "# get ready for vectorizer\n",
        "def items_pool(x):\n",
        "    return x['plot_keywords']           \\\n",
        "                + ' ' + x['title_cast'] \\\n",
        "                + ' ' + x['director']   \\\n",
        "                + ' ' + x['genres']     \\\n",
        "                + ' ' + x['runtime']    \\\n",
        "                + ' ' + x['year']\n"
      ],
      "metadata": {
        "id": "XaOWYcbAtFY1"
      },
      "execution_count": null,
      "outputs": []
    },
    {
      "cell_type": "code",
      "source": [
        "# create a new column into our items_dataset for the items_pool\n",
        "items_dataset['pool'] = items_dataset.apply(items_pool, axis=1)"
      ],
      "metadata": {
        "id": "zajvYNpAtJjn"
      },
      "execution_count": null,
      "outputs": []
    },
    {
      "cell_type": "markdown",
      "source": [
        "#### RECOMMENDER STEPS\n",
        "1. Using the index mapping, obtain the index of the movie given its title.\n",
        "\n",
        "2. Create a list of tuples containing the index number of the movies and the cosine similarity scores for that particular movie compared with all movies. \n",
        "\n",
        "3. Sort the list of tuples based on the similarity scores; that is, the second element of the tuple.\n",
        "\n",
        "4. Get the top N elements of this list. Ignore the first element as it refers to self (the movie most similar to a particular movie is the movie itself).\n",
        "\n",
        "5. Return the titles corresponding to the indices of the top N elements."
      ],
      "metadata": {
        "id": "a2O_WzDdudeV"
      }
    },
    {
      "cell_type": "code",
      "source": [
        "# make CountVectorizer object and create the count matrix\n",
        "# using countvectorizer to preserve the weights of important elements\n",
        "count_vect = CountVectorizer(stop_words='english')\n",
        "count_matrix = count_vect.fit_transform(items_dataset['pool'])"
      ],
      "metadata": {
        "id": "R4H76nfRtRgh"
      },
      "execution_count": null,
      "outputs": []
    },
    {
      "cell_type": "markdown",
      "source": [
        "#### Dimensionality Reduction to get the most important feature sets"
      ],
      "metadata": {
        "id": "rMwMTYrhxBso"
      }
    },
    {
      "cell_type": "code",
      "source": [
        "# defining global scaler objects\n",
        "ss = StandardScaler()\n",
        "\n",
        "# determine features and drop some columns\n",
        "#labels = []\n",
        "# scale the dataframe\n",
        "count_matrix_scaled = ss.fit_transform(count_matrix)"
      ],
      "metadata": {
        "id": "tSEYs4qmv59F"
      },
      "execution_count": null,
      "outputs": []
    },
    {
      "cell_type": "code",
      "source": [
        "# carrying out dimensionality reduction\n",
        "# apply PCA to get the 20 most important feature sets\n",
        "print(\"Computing PCA projection\")\n",
        "t0 = time()\n",
        "count_matrix_pca = decomposition.PCA(n_components=20).fit_transform(count_matrix_scaled)\n",
        "t1 = time()\n",
        "print(\"Finished PCA projection in \" + str(t1-t0) + \"s.\")"
      ],
      "metadata": {
        "id": "a2Z4fNn4v6Ml"
      },
      "execution_count": null,
      "outputs": []
    },
    {
      "cell_type": "code",
      "source": [
        "# Compute the Cosine Similarity matrix based on the count_matrix\n",
        "cosine_sim = cosine_similarity(count_matrix_pca, count_matrix_pca)"
      ],
      "metadata": {
        "id": "i37MmHaityKF"
      },
      "execution_count": null,
      "outputs": []
    },
    {
      "cell_type": "code",
      "source": [
        "# Set index of the main DataFrame and \n",
        "# construct a reverse mapping of the index to titles\n",
        "indices = pd.Series(\n",
        "    items_dataset.index, index=items_dataset['title'])"
      ],
      "metadata": {
        "id": "qysK3guvt9Id"
      },
      "execution_count": null,
      "outputs": []
    },
    {
      "cell_type": "code",
      "source": [
        "# Function that takes in movie title as input and outputs most similar movies\n",
        "def get_movie_recs(N, sample, cosine_sim=cosine_sim):\n",
        "    '''\n",
        "    title: str\n",
        "    N: int\n",
        "    cosine_sim: float\n",
        "    '''\n",
        "    # Get the index of the movie that matches the title\n",
        "    idx = indices[sample]\n",
        "\n",
        "    # Get the pairwsie similarity scores of all movies with that movie\n",
        "    # in a list of tuples, get the similarity scores next to the indices\n",
        "    sim_scores = list(enumerate(cosine_sim[idx]))\n",
        "\n",
        "    # Sort the movies based on the similarity scores\n",
        "    sim_scores = sorted(sim_scores, key=lambda x: x[1], reverse=True)\n",
        "\n",
        "    # Get the scores of the N most similar movies\n",
        "    sim_scores = sim_scores[1:N+1]\n",
        "\n",
        "    # Get the movie indices\n",
        "    movie_indices = [i[0] for i in sim_scores]\n",
        "\n",
        "    # Return the top N most similar movies\n",
        "    res = items_dataset['title'].iloc[movie_indices]\n",
        "    return res"
      ],
      "metadata": {
        "id": "-SPU9jSzukCR"
      },
      "execution_count": null,
      "outputs": []
    },
    {
      "cell_type": "code",
      "source": [
        "# get a sample of the movie recommender capabilities of Infinity One\n",
        "User1_likes_Toy_Story = get_movie_recs(10, 'Toy Story', cosine_sim)"
      ],
      "metadata": {
        "id": "mXFjmba1uuRZ"
      },
      "execution_count": null,
      "outputs": []
    },
    {
      "cell_type": "markdown",
      "source": [
        "# Section 7: Conclusion"
      ],
      "metadata": {
        "id": "CfRa_OfOmml5"
      }
    },
    {
      "cell_type": "markdown",
      "source": [
        "The bigger the choice, the harder it is to make the final decision. This is especially true for modern movie fans, who have thousands of movies to pick from. But thanks to machine learning, we now have recommendation systems based on its complex algorithms and techniques.\n",
        "\n",
        "Today, movie recommendation systems are widely used by the most popular streaming services, enabling a more personalized experience and increased user satisfaction across the platforms. Why do we need them? It’s estimated that the world cinema has released more than 500,000 movies — a number beyond one person’s control. With such an enormous number of motion pictures to choose from, developing and improving recommendation systems with ML was a crucial step to make this process easier and feasible.\n",
        "\n",
        "Once again, ML proves to be a vital technological solution that makes our lives easier. And the more these systems evolve, the more advanced ML techniques we have at our disposal that generate the most accurate content for users and give them what they are looking for.\n",
        "\n",
        "On this notebook we constructed such system.We constructed a recommendation algorithm based on content and collaborative filtering, capable of accurately predicting how a user will rate a movie they have not watched yet based on their historical preference."
      ],
      "metadata": {
        "id": "hZfJgxvSmml6"
      }
    }
  ]
}